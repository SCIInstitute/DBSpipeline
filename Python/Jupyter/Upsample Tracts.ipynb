{
 "cells": [
  {
   "cell_type": "code",
   "execution_count": 1,
   "id": "d683cd43",
   "metadata": {},
   "outputs": [
    {
     "name": "stderr",
     "output_type": "stream",
     "text": [
      "C:\\Users\\Matthew\\AppData\\Local\\Programs\\Python\\Python39\\lib\\site-packages\\scipy\\__init__.py:146: UserWarning: A NumPy version >=1.17.3 and <1.25.0 is required for this version of SciPy (detected version 1.25.2\n",
      "  warnings.warn(f\"A NumPy version >={np_minversion} and <{np_maxversion}\"\n"
     ]
    }
   ],
   "source": [
    "import numpy as np\n",
    "import pandas as pd\n",
    "from scipy.interpolate import CubicSpline\n",
    "import tkinter as tk\n",
    "from tkinter import filedialog\n",
    "import os\n",
    "import glob"
   ]
  },
  {
   "cell_type": "code",
   "execution_count": 2,
   "id": "15afb4f6",
   "metadata": {},
   "outputs": [],
   "source": [
    "root = tk.Tk()\n",
    "root.lift()\n",
    "root.withdraw()\n",
    "#file = filedialog.askopenfilenames(title='Tract File', filetypes=[(\"Points\",\"*.pts*\")])\n",
    "path = filedialog.askdirectory(title='Fiber Directory')\n",
    "file = glob.glob(path+'/*.pts')\n",
    "if not os.path.exists(path+'/Resample_0.5'):\n",
    "    os.makedirs(path+'/Resample_0.5')"
   ]
  },
  {
   "cell_type": "code",
   "execution_count": 3,
   "id": "ce2621be",
   "metadata": {},
   "outputs": [],
   "source": [
    "for Filename in file:\n",
    "    #Filename = File[0].split('/')[-1][:-4]\n",
    "    Points = np.loadtxt(path +'/'+ Filename.split('\\\\')[-1][:-4]+\".pts\")\n",
    "    Edges = np.loadtxt(path +'/'+ Filename.split('\\\\')[-1][:-4]+\".edge\", dtype=int)\n",
    "\n",
    "    Tracts = np.where(np.diff(Edges[:,0]) > 1)[0]\n",
    "    #Tracts = [Tracts[0]]\n",
    "    unitDistance = 0.5\n",
    "\n",
    "    NewBundle = np.zeros((0,3))\n",
    "    NewEdge = np.zeros((0,2))\n",
    "\n",
    "    lastEdge = 0\n",
    "    startIndex = 0\n",
    "    for tract in Tracts:\n",
    "        streamlines = Points[Edges[startIndex][0]:Edges[tract][1]+1,:]\n",
    "\n",
    "        vectorDistanceX = np.zeros(streamlines.shape[0])\n",
    "        inclusion = np.ones(vectorDistanceX.shape, dtype=bool)\n",
    "        for i in range(1,len(vectorDistanceX)):\n",
    "            vectorize = streamlines[i,:]-streamlines[i-1,:]\n",
    "            rssqLength = np.sqrt(np.sum(vectorize**2))\n",
    "            if rssqLength == 0:\n",
    "                inclusion[i] = False\n",
    "            vectorDistanceX[i] = rssqLength+vectorDistanceX[i-1]\n",
    "\n",
    "        f = CubicSpline(vectorDistanceX[inclusion], streamlines[inclusion,:], bc_type='natural')\n",
    "        newVectorDistance = np.arange(0, vectorDistanceX[-1]+0.1, unitDistance)\n",
    "        newStreamlines = f(newVectorDistance)\n",
    "\n",
    "        \"\"\"\n",
    "        inclusion = np.ones(newStreamlines.shape[0], dtype=bool)\n",
    "        for i in range(0, newStreamlines.shape[0]):\n",
    "            for j in range(i+1, newStreamlines.shape[0]):\n",
    "                if np.sqrt(np.sum((newStreamlines[i,:]-newStreamlines[j,:])**2)) < 0.4:\n",
    "                    inclusion[i] = False\n",
    "        newStreamlines = newStreamlines[inclusion,:]\n",
    "        \"\"\"\n",
    "\n",
    "        NewBundle = np.concatenate((NewBundle, newStreamlines))\n",
    "        NewEdge = np.concatenate((NewEdge, np.array([np.arange(0,newStreamlines.shape[0]-1)+lastEdge,np.arange(1,newStreamlines.shape[0])+lastEdge]).T))\n",
    "\n",
    "        startIndex = tract+1\n",
    "        lastEdge += newStreamlines.shape[0]\n",
    "\n",
    "    np.savetxt(path+'/Resample_0.5/'+Filename.split('\\\\')[-1][:-4]+\".pts\", NewBundle, fmt='%.3f', delimiter=' ')\n",
    "    np.savetxt(path+'/Resample_0.5/'+Filename.split('\\\\')[-1][:-4]+\".edge\", NewEdge, fmt='%d', delimiter=' ')\n",
    "\n",
    "    #np.savetxt(Filename[0][:-4]+\"_single.pts\", streamlines, fmt='%.3f', delimiter=' ')\n",
    "    #np.savetxt(Filename[0][:-4]+\"_single.edge\", Edges[0:tract+1,:], fmt='%d', delimiter=' ')"
   ]
  }
 ],
 "metadata": {
  "kernelspec": {
   "display_name": "Python 3 (ipykernel)",
   "language": "python",
   "name": "python3"
  },
  "language_info": {
   "codemirror_mode": {
    "name": "ipython",
    "version": 3
   },
   "file_extension": ".py",
   "mimetype": "text/x-python",
   "name": "python",
   "nbconvert_exporter": "python",
   "pygments_lexer": "ipython3",
   "version": "3.9.13"
  }
 },
 "nbformat": 4,
 "nbformat_minor": 5
}
