{
 "cells": [
  {
   "cell_type": "code",
   "execution_count": 32,
   "id": "21a6fa2f",
   "metadata": {},
   "outputs": [],
   "source": [
    "import numpy as np\n",
    "import tkinter as tk\n",
    "from tkinter import filedialog"
   ]
  },
  {
   "cell_type": "code",
   "execution_count": 58,
   "id": "fe8b4302",
   "metadata": {},
   "outputs": [],
   "source": [
    "root = tk.Tk()\n",
    "root.lift()\n",
    "root.withdraw()\n",
    "tracts = filedialog.askopenfilenames(title='Tract File', filetypes=[(\"Points\",\"*.pts*\")])\n",
    "pts = np.loadtxt(tracts[0])\n",
    "edge = np.loadtxt(tracts[0][:-3]+'edge', dtype='int' )\n",
    "#print(pts)\n",
    "#print(edge)\n",
    "\n",
    "lineCount = 1\n",
    "for i in range(1,len(edge)):\n",
    "    if edge[i,0] != edge[i-1,1]:\n",
    "        lineCount = lineCount + 1\n",
    "lineCount = lineCount + 1\n",
    "lineEnd = np.zeros((lineCount))\n",
    "    \n",
    "lineIndex = 0\n",
    "lineEnd[lineIndex] = 0\n",
    "for i in range(1,len(edge)):\n",
    "    if edge[i,0] != edge[i-1,1]:\n",
    "        lineIndex += 1\n",
    "        lineEnd[lineIndex] = i - 2 + lineIndex + 1\n",
    "lineIndex += 1\n",
    "lineEnd[lineIndex] = len(pts)\n",
    "#print(lineEnd)\n",
    "\n",
    "for l in range(1, lineCount):\n",
    "    single_pts = pts[int(lineEnd[l-1]):int(lineEnd[l]), :]\n",
    "    single_edge = edge[int(lineEnd[l-1]):int(lineEnd[l]), :]\n",
    "    break\n",
    "    \n",
    "#print(single_pts)\n",
    "#print(single_edge)\n",
    "\n",
    "np.savetxt(tracts[0][:-4]+'_mrtrix_single.pts', single_pts, fmt=\"%.8f\")\n",
    "np.savetxt(tracts[0][:-4]+'_mrtrix_single.edge', single_edge, fmt=\"%d\")"
   ]
  },
  {
   "cell_type": "code",
   "execution_count": 54,
   "id": "ebffdcb6",
   "metadata": {},
   "outputs": [
    {
     "data": {
      "text/plain": [
       "array([[12.37391472,  5.10018396,  9.28167725],\n",
       "       [12.66820049,  5.55702686,  9.79678059],\n",
       "       [13.08432961,  5.85850763, 10.32333565],\n",
       "       [13.65969849,  6.00873327, 10.7798872 ],\n",
       "       [14.18520355,  5.97911263, 11.29698849],\n",
       "       [14.61372375,  5.82660294, 11.89064407],\n",
       "       [15.10982704,  5.82561684, 12.44857121],\n",
       "       [15.73064423,  5.77142048, 12.85756874],\n",
       "       [16.26102829,  5.58071423, 13.33865738],\n",
       "       [16.75149155,  5.44416094, 13.88281822],\n",
       "       [17.30020142,  5.22800541, 14.33714867],\n",
       "       [17.69041824,  4.86715698, 14.86035919],\n",
       "       [17.9147892 ,  4.69702578, 15.54509163],\n",
       "       [17.98520851,  4.63968945, 16.28643799],\n",
       "       [18.0533371 ,  4.41102839, 16.99332809],\n",
       "       [18.21731949,  4.00368786, 17.59827995],\n",
       "       [18.36622429,  3.66944075, 18.24369431],\n",
       "       [18.60013008,  3.60267305, 18.94778061],\n",
       "       [19.08932877,  3.66253996, 19.50261116],\n",
       "       [19.55172348,  3.6769011 , 20.07766533],\n",
       "       [19.80186081,  3.59536552, 20.77966118],\n",
       "       [19.93323708,  3.59085441, 21.51379013],\n",
       "       [20.16671944,  3.59619331, 22.21514511]])"
      ]
     },
     "execution_count": 54,
     "metadata": {},
     "output_type": "execute_result"
    }
   ],
   "source": [
    "edge[int(lineEnd[l-1]):int(lineEnd[l]), :]\n",
    "pts[int(lineEnd[l-1]):int(lineEnd[l]), :]"
   ]
  }
 ],
 "metadata": {
  "kernelspec": {
   "display_name": "Python 3 (ipykernel)",
   "language": "python",
   "name": "python3"
  },
  "language_info": {
   "codemirror_mode": {
    "name": "ipython",
    "version": 3
   },
   "file_extension": ".py",
   "mimetype": "text/x-python",
   "name": "python",
   "nbconvert_exporter": "python",
   "pygments_lexer": "ipython3",
   "version": "3.9.13"
  }
 },
 "nbformat": 4,
 "nbformat_minor": 5
}
