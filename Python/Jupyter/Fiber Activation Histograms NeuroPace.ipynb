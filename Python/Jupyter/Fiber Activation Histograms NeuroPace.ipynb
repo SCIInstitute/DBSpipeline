{
 "cells": [
  {
   "cell_type": "code",
   "execution_count": 19,
   "metadata": {},
   "outputs": [],
   "source": [
    "import time\n",
    "import csv\n",
    "import pandas as pd\n",
    "import seaborn as sns; sns.set()\n",
    "from IPython.display import display, Math, Latex\n",
    "import matplotlib\n",
    "import matplotlib.pyplot as plt\n",
    "import numpy as np\n",
    "from pylab import *\n",
    "import tkinter as tk\n",
    "from tkinter import filedialog\n",
    "import os\n",
    "%matplotlib inline"
   ]
  },
  {
   "cell_type": "code",
   "execution_count": 20,
   "metadata": {},
   "outputs": [],
   "source": [
    "# Function Definitions\n",
    "\n",
    "def subtractDataframeColumns(a,b,x,y):\n",
    "    b.index = a.index\n",
    "    a['Val_Diff'] = a[y] - b[y]\n",
    "    return a\n",
    "\n",
    "def fiberLoader(side, *argv):\n",
    "    if len(argv) == 0: #No path provided\n",
    "        root = tk.Tk()\n",
    "        root.lift()\n",
    "        root.withdraw()\n",
    "        scirun_dir = filedialog.askdirectory(title='SCIRun Directory') #Select SCIRun directory\n",
    "    else:\n",
    "        scirun_dir = argv[0]\n",
    "    #return scirun_dir\n",
    "    amp_files = os.listdir(scirun_dir+'/simulations/Monopolar/'+side)\n",
    "    fiber_names  =[]\n",
    "    for amp in amp_files:\n",
    "        amp = amp[0:-10]\n",
    "        fiber_names.append(amp)\n",
    "    fiber_names = np.unique(fiber_names) #only the file names\n",
    "    \n",
    "    dir_files = os.listdir(scirun_dir)\n",
    "    pts = []\n",
    "    edge = []\n",
    "    for file in dir_files:\n",
    "        for name in fiber_names:\n",
    "            filename = file.split('.')\n",
    "            if name == filename[0] and '.edge' in file:\n",
    "                edge.append(file)\n",
    "            elif name == filename[0] and '.pts' in file:\n",
    "                pts.append(file)\n",
    "            else:\n",
    "                pass\n",
    "    return scirun_dir, pts, edge, fiber_names\n",
    "\n",
    "def fiberActivation(path, pts, edge, ampVal, side):\n",
    "    fiberActivation = []\n",
    "    m = np.loadtxt(path+'/'+edge) #edges\n",
    "    #print(ampVal, edge)\n",
    "    linePoints = np.loadtxt(path+'/'+pts) #pts\n",
    "    thresh = 0.015\n",
    "    #thresh = 0.15\n",
    "    \n",
    "    # Separate into idividual fibers\n",
    "    lineCount = 1\n",
    "    for i in range(1,len(m)):\n",
    "        if m[i,0] != m[i-1,1]:\n",
    "            lineCount = lineCount + 1\n",
    "    lineCount = lineCount + 1\n",
    "    lineEnd = np.zeros((lineCount))\n",
    "    \n",
    "    lineIndex = 0\n",
    "    lineEnd[lineIndex] = 0\n",
    "    for i in range(1,len(m)):\n",
    "        if m[i,0] != m[i-1,1]:\n",
    "            lineIndex += 1\n",
    "            lineEnd[lineIndex] = i - 2 + lineIndex + 1\n",
    "    lineIndex += 1\n",
    "    lineEnd[lineIndex] = len(linePoints)\n",
    "    \n",
    "    for contact in range(0,4):\n",
    "        for amplitude in range(1,6):\n",
    "            scale = amplitude\n",
    "            lineA = pd.read_csv(path+'/simulations/Monopolar/'+side+'/'+ampVal+'_amp_'+str(contact)+'.txt',header=None) #Fiber Current Values\n",
    "            lineA = np.array(lineA[0])*scale\n",
    "            max_AF = np.zeros(lineCount-1)\n",
    "            AFc = np.zeros((len(lineA)))\n",
    "            ptVal = np.zeros((len(lineA)))\n",
    "            indexCounter = 0\n",
    "            for l in range(1,lineCount):\n",
    "                AF = np.diff(np.diff(lineA[int(lineEnd[l-1]):int(lineEnd[l])]))\n",
    "                #AF[0] = 0\n",
    "                #AF[-1] = 0\n",
    "                if len(AF) < 1:\n",
    "                    AF = [0]\n",
    "                max_AF[l-1] = max(AF)\n",
    "                if max(AF) > thresh:\n",
    "                    ptVal[indexCounter:indexCounter+2+len(AF)] = 1\n",
    "                    #data = np.ones(len(fiberA))\n",
    "                    #data = data.tolist()\n",
    "                    #ptVal.extend(data)\n",
    "                else:\n",
    "                    ptVal[indexCounter:indexCounter+2+len(AF)] = 0\n",
    "                    #data = np.zeros(len(fiberA))\n",
    "                    #data = data.tolist()\n",
    "                    #ptVal.extend(data)\n",
    "                # Concatenate AF matricies for this fiber bundle\n",
    "                #at current contact/amp\n",
    "                AFc[indexCounter+1:indexCounter+1+len(AF)] = AF\n",
    "                indexCounter += len(AF)+2\n",
    "            \n",
    "            percentActivated = len(np.argwhere(max_AF > thresh))/(lineCount-1)*100\n",
    "            fiberActivation.append(percentActivated)\n",
    "            lineAmp = lineA\n",
    "            #np.savetxt(path+'/simulations/mono_fiber_activation/'+side.upper()+'/'+ampVal+'/'+str(contact)+'/PT_'+ampVal+'_'+str(contact)+'_-'+str(amplitude)+'mA.txt',ptVal,delimiter=',',fmt='%d')\n",
    "            #np.savetxt(path+'/simulations/mono_fiber_activation/'+side.upper()+'/'+ampVal+'/'+str(contact)+'/AF_'+ampVal+'_'+str(contact)+'_-'+str(amplitude)+'mA.txt',AFc.tolist(),delimiter=',',fmt='%0.6f')\n",
    "            try:\n",
    "                with open(path+'/simulations/mono_fiber_activation/'+side.upper()+'/'+ampVal+'/'+str(contact)+'/PT_'+ampVal+'_'+str(contact)+'_-'+str(amplitude)+'mA.txt', 'w') as file:\n",
    "                    file.writelines(['%d\\n' % data for data in ptVal])\n",
    "                with open(path+'/simulations/mono_fiber_activation/'+side.upper()+'/'+ampVal+'/'+str(contact)+'/AF_'+ampVal+'_'+str(contact)+'_-'+str(amplitude)+'mA.txt', 'w') as file:\n",
    "                    file.writelines(['%.6f\\n' % data for data in AFc])\n",
    "            except:\n",
    "                if contact == 0:\n",
    "                    os.mkdir(path+'/simulations/mono_fiber_activation/'+side.upper()+'/'+ampVal)\n",
    "                os.mkdir(path+'/simulations/mono_fiber_activation/'+side.upper()+'/'+ampVal+'/'+str(contact))\n",
    "                \n",
    "                with open(path+'/simulations/mono_fiber_activation/'+side.upper()+'/'+ampVal+'/'+str(contact)+'/PT_'+ampVal+'_'+str(contact)+'_-'+str(amplitude)+'mA.txt', 'w') as file:\n",
    "                    file.writelines(['%d\\n' % data for data in ptVal])\n",
    "                with open(path+'/simulations/mono_fiber_activation/'+side.upper()+'/'+ampVal+'/'+str(contact)+'/AF_'+ampVal+'_'+str(contact)+'_-'+str(amplitude)+'mA.txt', 'w') as file:\n",
    "                    file.writelines(['%.6f\\n' % data for data in AFc])\n",
    "            \n",
    "    return fiberActivation\n",
    "\n",
    "#fiberActivation(\".\",\"CL_L.pts\",\"CL_L.edge\",\"CLseed_fiberVoltage_Left_\",\"Left\")\n",
    "#fiberLoader('Left')"
   ]
  },
  {
   "cell_type": "markdown",
   "metadata": {},
   "source": [
    "# Right Side"
   ]
  },
  {
   "cell_type": "code",
   "execution_count": 21,
   "metadata": {
    "scrolled": true
   },
   "outputs": [
    {
     "data": {
      "text/html": [
       "<div>\n",
       "<style scoped>\n",
       "    .dataframe tbody tr th:only-of-type {\n",
       "        vertical-align: middle;\n",
       "    }\n",
       "\n",
       "    .dataframe tbody tr th {\n",
       "        vertical-align: top;\n",
       "    }\n",
       "\n",
       "    .dataframe thead th {\n",
       "        text-align: right;\n",
       "    }\n",
       "</style>\n",
       "<table border=\"1\" class=\"dataframe\">\n",
       "  <thead>\n",
       "    <tr style=\"text-align: right;\">\n",
       "      <th></th>\n",
       "      <th>Percent_Activation</th>\n",
       "      <th>Contact</th>\n",
       "      <th>Amplitude</th>\n",
       "      <th>Fiber_Name</th>\n",
       "    </tr>\n",
       "  </thead>\n",
       "  <tbody>\n",
       "    <tr>\n",
       "      <th>0</th>\n",
       "      <td>2.58</td>\n",
       "      <td>0</td>\n",
       "      <td>1</td>\n",
       "      <td>CL_right</td>\n",
       "    </tr>\n",
       "    <tr>\n",
       "      <th>1</th>\n",
       "      <td>7.74</td>\n",
       "      <td>0</td>\n",
       "      <td>2</td>\n",
       "      <td>CL_right</td>\n",
       "    </tr>\n",
       "    <tr>\n",
       "      <th>2</th>\n",
       "      <td>14.48</td>\n",
       "      <td>0</td>\n",
       "      <td>3</td>\n",
       "      <td>CL_right</td>\n",
       "    </tr>\n",
       "    <tr>\n",
       "      <th>3</th>\n",
       "      <td>21.64</td>\n",
       "      <td>0</td>\n",
       "      <td>4</td>\n",
       "      <td>CL_right</td>\n",
       "    </tr>\n",
       "    <tr>\n",
       "      <th>4</th>\n",
       "      <td>26.08</td>\n",
       "      <td>0</td>\n",
       "      <td>5</td>\n",
       "      <td>CL_right</td>\n",
       "    </tr>\n",
       "  </tbody>\n",
       "</table>\n",
       "</div>"
      ],
      "text/plain": [
       "   Percent_Activation  Contact  Amplitude Fiber_Name\n",
       "0                2.58        0          1   CL_right\n",
       "1                7.74        0          2   CL_right\n",
       "2               14.48        0          3   CL_right\n",
       "3               21.64        0          4   CL_right\n",
       "4               26.08        0          5   CL_right"
      ]
     },
     "execution_count": 21,
     "metadata": {},
     "output_type": "execute_result"
    }
   ],
   "source": [
    "# Right data\n",
    "\n",
    "path, pts, edge, ampVal = fiberLoader('Right') #get pts, edge, and SCIRun output files, Right side\n",
    "\n",
    "percentActivation_Right = []\n",
    "for f in range(0,len(ampVal)):\n",
    "    #start = time.time();print('Start')\n",
    "    percentActivation_Right = percentActivation_Right + fiberActivation(path,pts[f],edge[f],ampVal[f],'Right')\n",
    "    #finish = time.time();print('Finish', finish-start)\n",
    "\n",
    "df_template_right = pd.read_csv(\"activation_df_template.csv\")\n",
    "#df_template_right = pd.read_csv(\"activation_df_template_directional.csv\")\n",
    "#df_template_left.head()\n",
    "df_right = df_template_right\n",
    "for f in range(0,len(ampVal)):\n",
    "    if f > 0:\n",
    "        #df_left.append(df_template_left)\n",
    "        df_right = pd.concat([df_right, df_template_right], ignore_index=True)\n",
    "    for i in range(0,20): #Fiber Names\n",
    "        df_right.loc[i+(20*f), 'Fiber_Name'] = ampVal[f]\n",
    "\n",
    "df_right.loc[0:len(percentActivation_Right), 'Percent_Activation'] = percentActivation_Right #values\n",
    "\n",
    "df_right.to_csv(path+'/simulations/activation_Right.csv', index=False) #Save to csv\n",
    "\n",
    "df_right.head()"
   ]
  },
  {
   "cell_type": "code",
   "execution_count": 22,
   "metadata": {},
   "outputs": [
    {
     "data": {
      "text/plain": [
       "100"
      ]
     },
     "execution_count": 22,
     "metadata": {},
     "output_type": "execute_result"
    }
   ],
   "source": [
    "len(percentActivation_Right)"
   ]
  },
  {
   "cell_type": "markdown",
   "metadata": {},
   "source": [
    "# Left Side"
   ]
  },
  {
   "cell_type": "code",
   "execution_count": 23,
   "metadata": {},
   "outputs": [
    {
     "data": {
      "text/html": [
       "<div>\n",
       "<style scoped>\n",
       "    .dataframe tbody tr th:only-of-type {\n",
       "        vertical-align: middle;\n",
       "    }\n",
       "\n",
       "    .dataframe tbody tr th {\n",
       "        vertical-align: top;\n",
       "    }\n",
       "\n",
       "    .dataframe thead th {\n",
       "        text-align: right;\n",
       "    }\n",
       "</style>\n",
       "<table border=\"1\" class=\"dataframe\">\n",
       "  <thead>\n",
       "    <tr style=\"text-align: right;\">\n",
       "      <th></th>\n",
       "      <th>Percent_Activation</th>\n",
       "      <th>Contact</th>\n",
       "      <th>Amplitude</th>\n",
       "      <th>Fiber_Name</th>\n",
       "    </tr>\n",
       "  </thead>\n",
       "  <tbody>\n",
       "    <tr>\n",
       "      <th>0</th>\n",
       "      <td>7.44</td>\n",
       "      <td>0</td>\n",
       "      <td>1</td>\n",
       "      <td>CL_left</td>\n",
       "    </tr>\n",
       "    <tr>\n",
       "      <th>1</th>\n",
       "      <td>15.38</td>\n",
       "      <td>0</td>\n",
       "      <td>2</td>\n",
       "      <td>CL_left</td>\n",
       "    </tr>\n",
       "    <tr>\n",
       "      <th>2</th>\n",
       "      <td>21.88</td>\n",
       "      <td>0</td>\n",
       "      <td>3</td>\n",
       "      <td>CL_left</td>\n",
       "    </tr>\n",
       "    <tr>\n",
       "      <th>3</th>\n",
       "      <td>27.24</td>\n",
       "      <td>0</td>\n",
       "      <td>4</td>\n",
       "      <td>CL_left</td>\n",
       "    </tr>\n",
       "    <tr>\n",
       "      <th>4</th>\n",
       "      <td>30.92</td>\n",
       "      <td>0</td>\n",
       "      <td>5</td>\n",
       "      <td>CL_left</td>\n",
       "    </tr>\n",
       "  </tbody>\n",
       "</table>\n",
       "</div>"
      ],
      "text/plain": [
       "   Percent_Activation  Contact  Amplitude Fiber_Name\n",
       "0                7.44        0          1    CL_left\n",
       "1               15.38        0          2    CL_left\n",
       "2               21.88        0          3    CL_left\n",
       "3               27.24        0          4    CL_left\n",
       "4               30.92        0          5    CL_left"
      ]
     },
     "execution_count": 23,
     "metadata": {},
     "output_type": "execute_result"
    }
   ],
   "source": [
    "# Left data\n",
    "\n",
    "path, pts, edge, ampVal = fiberLoader('Left',path) # Add path to skip dialog box\n",
    "\n",
    "percentActivation_Left = []\n",
    "for f in range(0,len(ampVal)):\n",
    "    percentActivation_Left = percentActivation_Left + fiberActivation(path,pts[f],edge[f],ampVal[f],'Left')\n",
    "    \n",
    "    \n",
    "df_template_left = pd.read_csv(\"activation_df_template.csv\")\n",
    "#df_template_left.head()\n",
    "df_left = df_template_left\n",
    "for f in range(0,len(ampVal)):\n",
    "    if f > 0:\n",
    "        #df_left.append(df_template_left)\n",
    "        df_left = pd.concat([df_left, df_template_left], ignore_index=True)\n",
    "    for i in range(0,20): #Fiber Names\n",
    "        df_left.loc[i+(20*f), 'Fiber_Name'] = ampVal[f]\n",
    "\n",
    "#df_template_left.loc[0:len(percentActivation_Left), 'Percent_Activation'] = percentActivation_Left #values\n",
    "df_left.loc[0:len(percentActivation_Left), 'Percent_Activation'] = percentActivation_Left #values\n",
    "\n",
    "df_left.to_csv(path+'/simulations/activation_Left.csv', index=False) #Save to csv\n",
    "\n",
    "#df_left = pd.read_csv(path+'/simulations/activation_Left.csv')\n",
    "df_left.head()"
   ]
  },
  {
   "cell_type": "code",
   "execution_count": 24,
   "metadata": {},
   "outputs": [
    {
     "data": {
      "text/plain": [
       "array(['CL_left', 'CM_left', 'MD_left', 'VPL_left', 'VPM_left'],\n",
       "      dtype=object)"
      ]
     },
     "execution_count": 24,
     "metadata": {},
     "output_type": "execute_result"
    }
   ],
   "source": [
    "pd.Series(df_left['Fiber_Name']).unique()"
   ]
  },
  {
   "cell_type": "markdown",
   "metadata": {},
   "source": [
    "## Charge Density"
   ]
  },
  {
   "cell_type": "code",
   "execution_count": 25,
   "metadata": {},
   "outputs": [
    {
     "name": "stdout",
     "output_type": "stream",
     "text": [
      "[0.6, 1.2, 1.8, 2.4, 3.0]\n"
     ]
    }
   ],
   "source": [
    "#current = [-0.001,-0.002,-0.003,-0.004,-0.005] #amps\n",
    "current = [-0.0003,-0.0003*2,-0.0003*3,-0.0003*4,-0.0003*5]\n",
    "pulsewidth = 160 / 1000000 #seconds\n",
    "active_electrodes = 1\n",
    "\n",
    "charge = []\n",
    "for amp in current:\n",
    "    charge.append(abs(round((1000000 * amp * pulsewidth) / (0.079 * active_electrodes),1))) #From Neuropace\n",
    "    \n",
    "print(charge)"
   ]
  },
  {
   "cell_type": "code",
   "execution_count": 26,
   "metadata": {},
   "outputs": [
    {
     "name": "stdout",
     "output_type": "stream",
     "text": [
      "[0.0003, 0.0006, 0.0009, 0.0012, 0.0015]\n",
      "0.0003 0.0006 0.0009 0.0012 0.0014999999999999998\n"
     ]
    }
   ],
   "source": [
    "C = [0.6,1.2,1.8,2.4,3]\n",
    "\n",
    "amps = []\n",
    "for c in C:\n",
    "    amps.append(round((c * 0.079 * active_electrodes)/ (1000000 * pulsewidth),4))\n",
    "    \n",
    "print(amps)\n",
    "print(amps[0],amps[0]*2,amps[0]*3,amps[0]*4,amps[0]*5)"
   ]
  },
  {
   "cell_type": "markdown",
   "metadata": {},
   "source": [
    "# Complete Plot"
   ]
  },
  {
   "cell_type": "code",
   "execution_count": 27,
   "metadata": {
    "scrolled": false
   },
   "outputs": [
    {
     "data": {
      "image/png": "[encoded data removed]",
      "text/plain": [
       "<Figure size 1440x720 with 8 Axes>"
      ]
     },
     "metadata": {},
     "output_type": "display_data"
    }
   ],
   "source": [
    "pd.options.mode.chained_assignment = None #hides some annoying warnings (nothing to worry about)\n",
    "df_left_sub = df_left\n",
    "df_right_sub = df_right\n",
    "\n",
    "#Replace fiber names to be more readable\n",
    "#fibers_old = ['CL_L','CM_L','CM_UF_tracks','MD_L','VPL_L']\n",
    "fibers_old = pd.Series(df_left['Fiber_Name']).unique()\n",
    "fibers_new = ['CL','CM','MD','VPL','VPM'] #change these when you need to\n",
    "count = 0\n",
    "for fiber_old in fibers_old:\n",
    "    indices = [i for i, x in enumerate(df_left_sub['Fiber_Name']) if x == fiber_old]\n",
    "    df_left_sub['Fiber_Name'][indices] = fibers_new[count] #helps set titles in the legend\n",
    "    df_right_sub['Fiber_Name'][indices] = fibers_new[count]\n",
    "    count += 1\n",
    "\n",
    "\n",
    "\n",
    "plt.rcParams['figure.figsize']=20,10\n",
    "sns.set(style='white',color_codes=True)\n",
    "\n",
    "#colors = [\"#253494\", \"#F2F275\", \"#2c7fb8\", \"#54DB81\", \"#47D8EA\"]\n",
    "colors = [\"#253494\", \"#54DB81\", \"#F2F275\", \"#2c7fb8\", \"#47D8EA\"]\n",
    "#colors = ['#253494', '#F2F275', '#ffb026', '#d55e00', '#47D8EA']\n",
    "fig = plt.figure()\n",
    "location = [8,6,4,2] #subplot locations\n",
    "\n",
    "for contact in range(0,4,1):\n",
    "    #print(contact)\n",
    "    df_left_sub = df_left[df_left['Contact'] == contact]\n",
    "    df_right_sub = df_right[df_right['Contact'] == contact]\n",
    "    contact_name = 'E' + str(contact+1) #contact labels on y axis\n",
    "    #Left Side\n",
    "    ax = fig.add_subplot(4,2,location[contact]-1)\n",
    "    ax = sns.barplot(x=\"Amplitude\", y=\"Percent_Activation\", hue=\"Fiber_Name\", palette=colors, data=df_left_sub)\n",
    "    ax.set(ylim=(0, 100))\n",
    "    ax.set_ylabel(contact_name,fontsize=25,rotation=0,fontweight='bold')\n",
    "    ax.yaxis.set_label_coords(-0.05,0.45)\n",
    "    ax.set_xlabel('')\n",
    "    ax.set_yticks([])\n",
    "    if contact != 0:\n",
    "        ax.set_xticks([])\n",
    "    else:\n",
    "        #ax.set_xticklabels([-1,-2,-3,-4,-5],fontsize=25) #amplitude values\n",
    "        ax.set_xticklabels(charge,fontsize=25) #amplitude values\n",
    "        ax.set_xlabel('Amplitude (${\\mu}C/cm^{2}$)',fontsize=20,fontweight='bold')\n",
    "    if contact == 3:\n",
    "        ax.set_title('LEFT',fontsize=25,y=1.2,fontweight='bold')\n",
    "        ax.legend(bbox_to_anchor=(1.5,-0.5),prop={'size':25}) #legend formatting, only 1 is needed\n",
    "    else:\n",
    "        ax.legend_.remove()\n",
    "    \n",
    "    #Right Side\n",
    "    ax = fig.add_subplot(4,2,location[contact])\n",
    "    ax = sns.barplot(x=\"Amplitude\", y=\"Percent_Activation\", hue=\"Fiber_Name\", palette=colors, data=df_right_sub)\n",
    "    ax.set(ylim=(0, 100))\n",
    "    ax.legend_.remove()\n",
    "    ax.set_ylabel(contact_name,fontsize=25,rotation=0,fontweight='bold')  \n",
    "    ax.yaxis.set_label_coords(-0.05,0.45)\n",
    "    ax.set_xlabel('')\n",
    "    ax.set_yticks([])\n",
    "    if contact != 0:\n",
    "        ax.set_xticks([])\n",
    "    else:\n",
    "        #ax.set_xticklabels([-1,-2,-3,-4,-5],fontsize=25)\n",
    "        ax.set_xticklabels(charge,fontsize=25) #amplitude values\n",
    "        ax.set_xlabel('Amplitude (${\\mu}C/cm^{2}$)',fontsize=20,fontweight='bold')\n",
    "    if contact == 3:\n",
    "        ax.set_title('RIGHT',fontsize=25,y=1.2,fontweight='bold')\n",
    "\n",
    "plt.subplots_adjust(wspace=0.7) #give more space between the plots   \n",
    "fig.text(0.06,0.5,'Percent Activation',va = 'center',rotation='vertical',fontsize=25,fontweight='bold')\n",
    "plt.show()"
   ]
  },
  {
   "cell_type": "code",
   "execution_count": null,
   "metadata": {},
   "outputs": [],
   "source": []
  }
 ],
 "metadata": {
  "kernelspec": {
   "display_name": "Python 3 (ipykernel)",
   "language": "python",
   "name": "python3"
  },
  "language_info": {
   "codemirror_mode": {
    "name": "ipython",
    "version": 3
   },
   "file_extension": ".py",
   "mimetype": "text/x-python",
   "name": "python",
   "nbconvert_exporter": "python",
   "pygments_lexer": "ipython3",
   "version": "3.9.13"
  }
 },
 "nbformat": 4,
 "nbformat_minor": 2
}
