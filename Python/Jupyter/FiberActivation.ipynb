{
 "cells": [
  {
   "cell_type": "code",
   "execution_count": 1,
   "id": "2d6d54c4",
   "metadata": {},
   "outputs": [
    {
     "data": {
      "application/vnd.jupyter.widget-view+json": {
       "model_id": "ee86a945dde24636af475a2710d69a08",
       "version_major": 2,
       "version_minor": 0
      },
      "text/plain": [
       "interactive(children=(Dropdown(description='Filename', options=('Left Pallidum Directional', 'Left Pallidum Ri…"
      ]
     },
     "metadata": {},
     "output_type": "display_data"
    }
   ],
   "source": [
    "from datetime import datetime\n",
    "import numpy as np\n",
    "import pandas as pd\n",
    "import os,sys \n",
    "import glob\n",
    "\n",
    "import plotly.graph_objects as go\n",
    "import plotly.offline as po\n",
    "from plotly.subplots import make_subplots\n",
    "import matplotlib.pyplot as plt\n",
    "from matplotlib import dates, colors\n",
    "\n",
    "import ipywidgets as widgets\n",
    "from ipywidgets import interact, interact_manual\n",
    "import tkinter as tk\n",
    "from tkinter import filedialog\n",
    "\n",
    "root = tk.Tk()\n",
    "root.lift()\n",
    "root.withdraw()\n",
    "scirun_dir = filedialog.askdirectory(title='SCIRun Directory') #Select SCIRun directory\n",
    "\n",
    "global FiberActivationFile\n",
    "\n",
    "files = glob.glob(scirun_dir + '/simulations/*.csv')\n",
    "\n",
    "name_list = []\n",
    "for file in files:\n",
    "    name_list.append(file.split('\\\\')[-1].split('.')[0].replace('_',' ').title().replace('Activation ', ''))\n",
    "    \n",
    "@interact\n",
    "def file_select(Filename=name_list):\n",
    "    file_loc = [i for i, file in enumerate(name_list) if Filename in file]\n",
    "    global FiberActivationFile\n",
    "    FiberActivationFile = files[file_loc[0]]\n"
   ]
  },
  {
   "cell_type": "code",
   "execution_count": 42,
   "id": "04ca52b8",
   "metadata": {},
   "outputs": [
    {
     "data": {
      "application/vnd.jupyter.widget-view+json": {
       "model_id": "6eb2f6b133d448b7a41da28023bc336b",
       "version_major": 2,
       "version_minor": 0
      },
      "text/plain": [
       "interactive(children=(Dropdown(description='fiberName', options=('Sum_Right_ACC_hdp.100', 'Sum_Right_M1_hdp_fa…"
      ]
     },
     "metadata": {},
     "output_type": "display_data"
    }
   ],
   "source": [
    "#FiberActivationFile = r\"D:\\Dropbox (UFL)\\Projects\\Tourette DBS UH3\\TSDBS_Data\\S2\\Image_processing\\SCIRun\\simulations\\activation_Left_pallidum_directional.csv\"\n",
    "FiberActivations = pd.read_csv(FiberActivationFile)\n",
    "availableFibers = sorted(np.unique(FiberActivations[\"Fiber_Name\"]))\n",
    "\n",
    "@interact\n",
    "def show_activation_of(fiberName=availableFibers, amplitude=widgets.IntSlider(min=1, max=5, step=1, value=1)):\n",
    "    activationValues = FiberActivations.loc[FiberActivations[\"Fiber_Name\"] == fiberName].loc[FiberActivations[\"Amplitude\"] == amplitude]\n",
    "    fig = make_subplots(rows=1, cols=2, shared_xaxes=True, shared_yaxes=False,\n",
    "                        subplot_titles=[(fiberName.split('_')[1]+ ' ' + fiberName.split('_')[2] if 'Sum' in fiberName else str(('Left ' if 'L' in fiberName.split('_')[1] else 'Right ') + fiberName.split('_')[0])) + f\" activation at {amplitude}mA\", (fiberName.split('_')[1]+ ' ' + fiberName.split('_')[2] if 'Sum' in fiberName else str(('Left ' if 'L' in fiberName.split('_')[1] else 'Right ') + fiberName.split('_')[0])) + f\" Activation Heatmap\"])\n",
    "\n",
    "    if len(activationValues[\"Contact\"]) == 8:\n",
    "        ContactNames = [\"E00\", \"E01A\", \"E01B\", \"E01C\", \"E02A\", \"E02B\", \"E02C\", \"E03\"]\n",
    "    elif len(activationValues[\"Contact\"]) == 4:\n",
    "        ContactNames = [\"E00\", \"E01\", \"E02\", \"E03\"]\n",
    "\n",
    "    fig.add_trace(\n",
    "        go.Bar(x=ContactNames, y=activationValues[\"Percent_Activation\"],\n",
    "                   hovertemplate=\"%{x}: %{y:.1f}% <extra></extra>\",\n",
    "                   showlegend=False\n",
    "                  ),\n",
    "        row=1, col=1\n",
    "    )\n",
    "\n",
    "    if len(activationValues[\"Contact\"]) == 8:\n",
    "        activationHeatmap = np.zeros((4,5))\n",
    "        activationHeatmap[0,:] = activationValues.loc[FiberActivations['Contact'] == 0][\"Percent_Activation\"]\n",
    "        activationHeatmap[1,0] = activationValues.loc[FiberActivations['Contact'] == 3][\"Percent_Activation\"]\n",
    "        activationHeatmap[1,4] = activationValues.loc[FiberActivations['Contact'] == 1][\"Percent_Activation\"]\n",
    "        activationHeatmap[1,1:4] = activationValues.loc[np.bitwise_and(FiberActivations['Contact'] > 0, FiberActivations['Contact'] < 4)][\"Percent_Activation\"]\n",
    "        activationHeatmap[2,0] = activationValues.loc[FiberActivations['Contact'] == 6][\"Percent_Activation\"]\n",
    "        activationHeatmap[2,4] = activationValues.loc[FiberActivations['Contact'] == 4][\"Percent_Activation\"]\n",
    "        activationHeatmap[2,1:4] = activationValues.loc[np.bitwise_and(FiberActivations['Contact'] > 3, FiberActivations['Contact'] < 7)][\"Percent_Activation\"]\n",
    "        activationHeatmap[3,:] = activationValues.loc[FiberActivations['Contact'] == 7][\"Percent_Activation\"]\n",
    "        fig.add_trace(\n",
    "            go.Heatmap(x=[-1,0,1,2,3], y=[0,1,2,3], z=activationHeatmap,\n",
    "                       type=\"heatmap\", zsmooth=\"best\", colorscale=\"jet\", hovertemplate=\"%{z:.2f}% <extra></extra>\",\n",
    "                       zmin=0, zmax=100,\n",
    "                       showlegend=False\n",
    "                      ),\n",
    "            row=1, col=2\n",
    "        )\n",
    "        \n",
    "        fig.update_xaxes(title_font_size=15, title_text=\"\", tickfont_size=12, range=(-0.5,2.5),\n",
    "                         color=\"#000000\", ticks=\"outside\", showline=True, linecolor=\"#DDDDDD\", \n",
    "                         tickvals=[0,1,2], ticktext=[\"Segment A\", \"Segment B\", \"Segment C\"],\n",
    "                         tickangle=-30,\n",
    "                         showgrid=True, gridcolor=\"#DDDDDD\", col=2, row=1)\n",
    "        \n",
    "        fig.update_yaxes(type='linear',\n",
    "                     title_font_size=15, title_text=\"\", tickfont_size=12,\n",
    "                     tickmode=\"array\", tickvals=[0,1,2,3], ticktext=[\"E00\",\"E01\",\"E02\",\"E03\"],\n",
    "                     color=\"#000000\", ticks=\"outside\", showline=True, linecolor=\"#000000\", zeroline=False, zerolinecolor=\"#000000\",\n",
    "                     showgrid=True, gridcolor=\"#DDDDDD\", col=2, row=1)\n",
    "    \n",
    "    elif len(activationValues[\"Contact\"]) == 4:\n",
    "        activationHeatmap = np.zeros((4,1))\n",
    "        activationHeatmap[0,:] = activationValues.loc[FiberActivations['Contact'] == 0][\"Percent_Activation\"]\n",
    "        activationHeatmap[1,:] = activationValues.loc[FiberActivations['Contact'] == 1][\"Percent_Activation\"]\n",
    "        activationHeatmap[2,:] = activationValues.loc[FiberActivations['Contact'] == 2][\"Percent_Activation\"]\n",
    "        activationHeatmap[3,:] = activationValues.loc[FiberActivations['Contact'] == 3][\"Percent_Activation\"]\n",
    "        fig.add_trace(\n",
    "            go.Heatmap(x=[0], y=[0,1,2,3], z=activationHeatmap,\n",
    "                       type=\"heatmap\", zsmooth=None, colorscale=\"jet\", hovertemplate=\"%{z:.2f}% <extra></extra>\",\n",
    "                       zmin=0, zmax=100,\n",
    "                       showlegend=False\n",
    "                      ),\n",
    "            row=1, col=2\n",
    "        )\n",
    "        \n",
    "        fig.update_xaxes(title_font_size=15, title_text=\"\", tickfont_size=12, range=(-0.5,0.5),\n",
    "                         color=\"#000000\", ticks=\"outside\", showline=True, linecolor=\"#DDDDDD\", \n",
    "                         tickvals=[0,1,2], ticktext=[\"Ring\"],\n",
    "                         tickangle=-30,\n",
    "                         showgrid=True, gridcolor=\"#DDDDDD\", col=2, row=1)\n",
    "        \n",
    "        fig.update_yaxes(type='linear',\n",
    "                     title_font_size=15, title_text=\"\", tickfont_size=12,\n",
    "                     tickmode=\"array\", tickvals=[0,1,2,3], ticktext=[\"E00\",\"E01\",\"E02\",\"E03\"],\n",
    "                     color=\"#000000\", ticks=\"outside\", showline=True, linecolor=\"#000000\", zeroline=False, zerolinecolor=\"#000000\",\n",
    "                     showgrid=True, gridcolor=\"#DDDDDD\", col=2, row=1)\n",
    "\n",
    "\n",
    "    fig.update_yaxes(type='linear', range=(0,100),\n",
    "                     title_font_size=15, title_text=\"Percent Activation (%)\", tickfont_size=12,\n",
    "                     tickmode=\"array\", tickvals=np.arange(0,120,20), ticktext=[f\"{i}\" for i in np.arange(0,120,20)],\n",
    "                     color=\"#000000\", ticks=\"outside\", showline=True, linecolor=\"#000000\", zeroline=False, zerolinecolor=\"#000000\",\n",
    "                     showgrid=True, gridcolor=\"#DDDDDD\", col=1, row=1)\n",
    "\n",
    "    fig.update_xaxes(title_font_size=15, title_text=\"Contact ID\", tickfont_size=12,\n",
    "                     color=\"#000000\", ticks=\"outside\", showline=True, linecolor=\"#DDDDDD\", tickvals=ContactNames,\n",
    "                     tickangle=-30,\n",
    "                     showgrid=True, gridcolor=\"#DDDDDD\", col=1, row=1)\n",
    "\n",
    "    fig.layout[\"paper_bgcolor\"]=\"#FFFFFF\"\n",
    "    fig.layout[\"plot_bgcolor\"]=\"#FFFFFF\"\n",
    "    fig.layout[\"height\"] = 400\n",
    "\n",
    "    fig.show(renderer=\"notebook\")"
   ]
  },
  {
   "cell_type": "code",
   "execution_count": 43,
   "id": "27957f13",
   "metadata": {},
   "outputs": [
    {
     "data": {
      "application/vnd.jupyter.widget-view+json": {
       "model_id": "1ef9091d7deb439fa8c58d503bfb20db",
       "version_major": 2,
       "version_minor": 0
      },
      "text/plain": [
       "interactive(children=(Dropdown(description='contactName', options=('E00', 'E01A', 'E01B', 'E01C', 'E02A', 'E02…"
      ]
     },
     "metadata": {},
     "output_type": "display_data"
    }
   ],
   "source": [
    "availableContacts = sorted(np.unique(FiberActivations[\"Contact\"]))\n",
    "if len(availableContacts) == 8:\n",
    "    ContactNames = [\"E00\", \"E01A\", \"E01B\", \"E01C\", \"E02A\", \"E02B\", \"E02C\", \"E03\"]\n",
    "elif len(availableContacts) == 4:\n",
    "    ContactNames = [\"E00\", \"E01\", \"E02\", \"E03\"]\n",
    "    \n",
    "@interact\n",
    "def show_activation_of(contactName=ContactNames, amplitude=widgets.IntSlider(min=1, max=5, step=1, value=1)):\n",
    "    contactIndex = np.where([contactName == name for name in ContactNames])[0][0]\n",
    "    activationValues = FiberActivations.loc[FiberActivations[\"Contact\"] == contactIndex].loc[FiberActivations[\"Amplitude\"] == amplitude]\n",
    "    fig = make_subplots(rows=1, cols=1, shared_xaxes=True, shared_yaxes=False,\n",
    "                        subplot_titles=[f\"{contactName} Fiber Activation at {amplitude}mA\"])\n",
    "    \n",
    "    fig.add_trace(\n",
    "        go.Bar(x=activationValues[\"Fiber_Name\"], y=activationValues[\"Percent_Activation\"],\n",
    "                   hovertemplate=\"%{x}: %{y:.1f}% <extra></extra>\",\n",
    "                   showlegend=False\n",
    "                  ),\n",
    "        row=1, col=1\n",
    "    )\n",
    "\n",
    "    fig.update_yaxes(type='linear', range=(0,100),\n",
    "                     title_font_size=15, title_text=\"Percent Activation (%)\", tickfont_size=12,\n",
    "                     tickmode=\"array\", tickvals=np.arange(0,120,20), ticktext=[f\"{i}\" for i in np.arange(0,120,20)],\n",
    "                     color=\"#000000\", ticks=\"outside\", showline=True, linecolor=\"#000000\", zeroline=False, zerolinecolor=\"#000000\",\n",
    "                     showgrid=True, gridcolor=\"#DDDDDD\", col=1, row=1)\n",
    "\n",
    "    fig.update_xaxes(title_font_size=15, title_text=\"Fiber Names\", tickfont_size=12,\n",
    "                     color=\"#000000\", ticks=\"outside\", showline=True, linecolor=\"#DDDDDD\", tickvals=activationValues[\"Fiber_Name\"],\n",
    "                     tickangle=-30,\n",
    "                     showgrid=True, gridcolor=\"#DDDDDD\", col=1, row=1)\n",
    "\n",
    "    fig.layout[\"paper_bgcolor\"]=\"#FFFFFF\"\n",
    "    fig.layout[\"plot_bgcolor\"]=\"#FFFFFF\"\n",
    "    fig.layout[\"height\"] = 600\n",
    "\n",
    "    fig.show(renderer=\"notebook\")"
   ]
  }
 ],
 "metadata": {
  "kernelspec": {
   "display_name": "Python 3 (ipykernel)",
   "language": "python",
   "name": "python3"
  },
  "language_info": {
   "codemirror_mode": {
    "name": "ipython",
    "version": 3
   },
   "file_extension": ".py",
   "mimetype": "text/x-python",
   "name": "python",
   "nbconvert_exporter": "python",
   "pygments_lexer": "ipython3",
   "version": "3.9.13"
  }
 },
 "nbformat": 4,
 "nbformat_minor": 5
}
