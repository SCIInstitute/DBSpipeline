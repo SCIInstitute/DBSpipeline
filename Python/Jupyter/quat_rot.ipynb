{
 "cells": [
  {
   "cell_type": "code",
   "execution_count": 126,
   "id": "0539767f",
   "metadata": {},
   "outputs": [],
   "source": [
    "import tkinter as tk\n",
    "from tkinter import filedialog\n",
    "import numpy as np\n",
    "from scipy.spatial.transform import Rotation as R\n",
    "\n",
    "root = tk.Tk()\n",
    "root.lift()\n",
    "root.withdraw()\n",
    "scirun_dir = filedialog.askdirectory(title='SCIRun Directory') #Select SCIRun directory\n"
   ]
  },
  {
   "cell_type": "code",
   "execution_count": 23,
   "id": "c0651492",
   "metadata": {},
   "outputs": [
    {
     "name": "stdout",
     "output_type": "stream",
     "text": [
      "SCIRun Quaternion: ['0.41224491596221924', '0.12700916826725006', '0.8678362369537354', '0.24654242396354675\\n']\n",
      "Axis of Roation (xyz): y\n",
      "Angle (Deg): -90\n",
      "Rotated: [-0.32215169632755164, 0.26414085071047694, 0.9051540181918478, 0.08452277143100809]\n"
     ]
    }
   ],
   "source": [
    "file = open(scirun_dir+'/Transform_Plans/viewscene.txt', 'r')\n",
    "data = file.readlines()\n",
    "nums = data[1].split(' ')\n",
    "print(\"SCIRun Quaternion:\",nums)\n",
    "sci_quat = R.from_quat([float(x) for x in nums])\n",
    "file.close()\n",
    "ax_rot = R.from_euler(input(\"Axis of Roation (xyz): \"), float(input(\"Angle (Deg): \")), degrees=True) #Make rotation matrix\n",
    "\n",
    "sci_rotated = ax_rot.apply(sci_quat.as_matrix()) #Apply rotation to quaternion\n",
    "sci_quat_rotated = R.from_matrix(sci_rotated)\n",
    "sci_array = np.asarray(sci_quat_rotated.as_quat())\n",
    "print('Rotated:',sci_array.tolist())\n",
    "\n",
    "file = open(scirun_dir+'/Transform_Plans/viewscene_mirrored.txt', 'w')\n",
    "for num in sci_array.tolist():\n",
    "    file.write(str(num)+' ')\n",
    "file.close()"
   ]
  },
  {
   "cell_type": "code",
   "execution_count": 137,
   "id": "1f33f0e2",
   "metadata": {},
   "outputs": [
    {
     "name": "stdout",
     "output_type": "stream",
     "text": [
      "SCIRun Quaternion: ['0.5054520964622498', '0.2137937843799591', '0.8345393538475037', '-0.048525918275117874\\n']\n",
      "Rotated: [-0.13648376828461561, -0.17359509198810258, 0.9752207378456411, 0.01346987410026262]\n"
     ]
    }
   ],
   "source": [
    "file = open(scirun_dir+'/Transform_Plans/viewscene.txt', 'r')\n",
    "data = file.readlines()\n",
    "nums = data[1].split(' ')\n",
    "print(\"SCIRun Quaternion:\",nums)\n",
    "sci_quat = R.from_quat([float(x) for x in nums])\n",
    "file.close()\n",
    "ax_rot = R.from_euler('yxz',[-90,30,30], degrees=True) #Make rotation matrix\n",
    "\n",
    "sci_rotated = ax_rot.apply(sci_quat.as_matrix()) #Apply rotation to quaternion\n",
    "sci_quat_rotated = R.from_matrix(sci_rotated)\n",
    "sci_array = np.asarray(sci_quat_rotated.as_quat())\n",
    "print('Rotated:',sci_array.tolist())\n",
    "\n",
    "file = open(scirun_dir+'/Transform_Plans/viewscene_mirrored.txt', 'w')\n",
    "for num in sci_array.tolist():\n",
    "    file.write(str(num)+' ')\n",
    "file.close()"
   ]
  }
 ],
 "metadata": {
  "kernelspec": {
   "display_name": "Python 3 (ipykernel)",
   "language": "python",
   "name": "python3"
  },
  "language_info": {
   "codemirror_mode": {
    "name": "ipython",
    "version": 3
   },
   "file_extension": ".py",
   "mimetype": "text/x-python",
   "name": "python",
   "nbconvert_exporter": "python",
   "pygments_lexer": "ipython3",
   "version": "3.9.13"
  }
 },
 "nbformat": 4,
 "nbformat_minor": 5
}
