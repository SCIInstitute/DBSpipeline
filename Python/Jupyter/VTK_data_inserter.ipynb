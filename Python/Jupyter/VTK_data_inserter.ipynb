{
 "cells": [
  {
   "cell_type": "code",
   "execution_count": 54,
   "id": "8ec833a5",
   "metadata": {},
   "outputs": [],
   "source": [
    "import tkinter as tk\n",
    "from tkinter import filedialog\n",
    "import os\n",
    "\n",
    "#SCIRun does not write VTK files out with their data, so this can add the data in later\n",
    "#Data must be a single column text file\n",
    "\n",
    "root = tk.Tk()\n",
    "root.lift()\n",
    "root.withdraw()\n",
    "vtk = filedialog.askopenfilename(title='VTK File', filetypes=[(\"vtk files\",\"*.vtk\")])\n",
    "data = filedialog.askopenfilename(title='Data File', filetypes=[(\"text files\",\"*.txt\")])\n",
    "\n",
    "old_file = vtk.split('/')[-1]\n",
    "filepath = vtk.replace(old_file,'')\n",
    "filename = vtk.split('/')[-1].split('.')[0] + '_data.vtk'\n",
    "filepath = filepath + filename\n",
    "\n",
    "vtk = open(vtk,'r')\n",
    "lines = vtk.readlines()\n",
    "vtk.close()\n",
    "\n",
    "data = open(data,'r')\n",
    "values = data.readlines()\n",
    "data.close()\n",
    "\n",
    "# Append VTK file with data values and required header\n",
    "header = ['POINT_DATA '+ str(len(values)) + '\\n','FIELD FieldData 1\\n','curv 1 ' + str(len(values)) + ' double\\n']\n",
    "lines.extend(header + values)\n",
    "\n",
    "vtk_data = open(filepath, 'w')\n",
    "vtk_data.writelines(lines)\n",
    "vtk_data.close()"
   ]
  },
  {
   "cell_type": "code",
   "execution_count": null,
   "id": "d0e949ca",
   "metadata": {},
   "outputs": [],
   "source": []
  }
 ],
 "metadata": {
  "kernelspec": {
   "display_name": "Python 3 (ipykernel)",
   "language": "python",
   "name": "python3"
  },
  "language_info": {
   "codemirror_mode": {
    "name": "ipython",
    "version": 3
   },
   "file_extension": ".py",
   "mimetype": "text/x-python",
   "name": "python",
   "nbconvert_exporter": "python",
   "pygments_lexer": "ipython3",
   "version": "3.9.13"
  }
 },
 "nbformat": 4,
 "nbformat_minor": 5
}
