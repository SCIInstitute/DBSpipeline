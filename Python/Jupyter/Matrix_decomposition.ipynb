{
 "cells": [
  {
   "cell_type": "markdown",
   "id": "5440aea5",
   "metadata": {},
   "source": [
    "# Affine transformation matrix decomposition\n",
    "\n",
    "Decomposition of affine transformations into translation, rotation and scales.\n",
    "\n",
    "Start with a 4x4 homogeneous matrix H of the form\n",
    "\n",
    "$H = \\begin{bmatrix}\n",
    " a & b & c & d \\\\ \n",
    " e & f & g & h \\\\ \n",
    " i & j & k & l \\\\ \n",
    " 0 & 0 & 0 & 1 \\\\\n",
    "\\end{bmatrix}$"
   ]
  },
  {
   "cell_type": "code",
   "execution_count": 35,
   "id": "0c4c9967",
   "metadata": {},
   "outputs": [
    {
     "name": "stdout",
     "output_type": "stream",
     "text": [
      "[[  6.157   3.768   9.929  83.834]\n",
      " [-15.434   3.995  -6.801 -23.367]\n",
      " [-24.976  -1.54    6.65   44.676]\n",
      " [  0.      0.      0.      1.   ]]\n"
     ]
    }
   ],
   "source": [
    "import numpy as np\n",
    "np.set_printoptions(precision=3, suppress=True)\n",
    "\n",
    "H = np.array([(6.15664,3.76798,9.9293,83.8339),\n",
    "              (-15.4335,3.99544,-6.80062,-23.3666),\n",
    "              (-24.9755,-1.54013,6.65004,44.6757),\n",
    "              (0,0,0,1)], dtype=float)\n",
    "print(H)"
   ]
  },
  {
   "cell_type": "markdown",
   "id": "51134894",
   "metadata": {},
   "source": [
    "## Translation\n",
    "\n",
    "Obtain the translation $T$ from the last column and the linear component $L$ from the 3x3 upper-left block.\n",
    "\n",
    "$H = T L$"
   ]
  },
  {
   "cell_type": "code",
   "execution_count": 36,
   "id": "4c8a2a9b",
   "metadata": {},
   "outputs": [
    {
     "name": "stdout",
     "output_type": "stream",
     "text": [
      "[[  1.      0.      0.     83.834]\n",
      " [  0.      1.      0.    -23.367]\n",
      " [  0.      0.      1.     44.676]\n",
      " [  0.      0.      0.      1.   ]]\n"
     ]
    }
   ],
   "source": [
    "T = np.eye(4)\n",
    "T[:3,3] = H[:3,3]\n",
    "print(T)"
   ]
  },
  {
   "cell_type": "code",
   "execution_count": 37,
   "id": "80c664fe",
   "metadata": {},
   "outputs": [
    {
     "name": "stdout",
     "output_type": "stream",
     "text": [
      "[[  6.157   3.768   9.929   0.   ]\n",
      " [-15.434   3.995  -6.801   0.   ]\n",
      " [-24.976  -1.54    6.65    0.   ]\n",
      " [  0.      0.      0.      1.   ]]\n"
     ]
    }
   ],
   "source": [
    "L = H.copy()\n",
    "L[:3,3] = 0\n",
    "print(L)"
   ]
  },
  {
   "cell_type": "markdown",
   "id": "c49ab825",
   "metadata": {},
   "source": [
    "Check that $H=TL$:"
   ]
  },
  {
   "cell_type": "code",
   "execution_count": 38,
   "id": "dfb4a674",
   "metadata": {},
   "outputs": [
    {
     "data": {
      "text/plain": [
       "True"
      ]
     },
     "execution_count": 38,
     "metadata": {},
     "output_type": "execute_result"
    }
   ],
   "source": [
    "np.allclose(H, T @ L)"
   ]
  },
  {
   "cell_type": "markdown",
   "id": "1203bc41",
   "metadata": {},
   "source": [
    "## Rotation\n",
    "\n",
    "Calculate the polar decomposition of $L$ to obtain rotation $R$ and stretch $K$ matrices:\n",
    "\n",
    "$L = R K$\n",
    "\n",
    "$H = T R K$"
   ]
  },
  {
   "cell_type": "code",
   "execution_count": 39,
   "id": "518b3013",
   "metadata": {},
   "outputs": [
    {
     "name": "stdout",
     "output_type": "stream",
     "text": [
      "[[ 0.205  0.661  0.722  0.   ]\n",
      " [-0.514  0.7   -0.495  0.   ]\n",
      " [-0.833 -0.27   0.484  0.   ]\n",
      " [ 0.     0.     0.     1.   ]]\n"
     ]
    }
   ],
   "source": [
    "from scipy.linalg import polar\n",
    "\n",
    "R, K = polar(L)\n",
    "print(R)"
   ]
  },
  {
   "cell_type": "code",
   "execution_count": 40,
   "id": "91dbdd05",
   "metadata": {},
   "outputs": [
    {
     "name": "stdout",
     "output_type": "stream",
     "text": [
      "[[29.998 -0.     0.     0.   ]\n",
      " [-0.     5.704  0.     0.   ]\n",
      " [ 0.     0.    13.75   0.   ]\n",
      " [ 0.     0.     0.     1.   ]]\n"
     ]
    }
   ],
   "source": [
    "print(K)"
   ]
  },
  {
   "cell_type": "markdown",
   "id": "5edc9578",
   "metadata": {},
   "source": [
    "The determinant of a rotation matrix must be positive. When the determinant of $R$ is negative it is necessary to change the sign of the linear part of both matrices:"
   ]
  },
  {
   "cell_type": "code",
   "execution_count": 41,
   "id": "db311395",
   "metadata": {},
   "outputs": [
    {
     "name": "stdout",
     "output_type": "stream",
     "text": [
      "[[ 0.205  0.661  0.722  0.   ]\n",
      " [-0.514  0.7   -0.495  0.   ]\n",
      " [-0.833 -0.27   0.484  0.   ]\n",
      " [ 0.     0.     0.     1.   ]]\n"
     ]
    }
   ],
   "source": [
    "if np.linalg.det(R) < 0:\n",
    "    R[:3,:3] = -R[:3,:3]\n",
    "    K[:3,:3] = -K[:3,:3]\n",
    "print(R)"
   ]
  },
  {
   "cell_type": "code",
   "execution_count": 42,
   "id": "4482293d",
   "metadata": {},
   "outputs": [
    {
     "name": "stdout",
     "output_type": "stream",
     "text": [
      "[[29.998 -0.     0.     0.   ]\n",
      " [-0.     5.704  0.     0.   ]\n",
      " [ 0.     0.    13.75   0.   ]\n",
      " [ 0.     0.     0.     1.   ]]\n"
     ]
    }
   ],
   "source": [
    "print(K)"
   ]
  },
  {
   "cell_type": "markdown",
   "id": "4562ccad",
   "metadata": {},
   "source": [
    "Check that $L=RK$ and $H=TRK$:"
   ]
  },
  {
   "cell_type": "code",
   "execution_count": 28,
   "id": "b4bd7553",
   "metadata": {},
   "outputs": [
    {
     "data": {
      "text/plain": [
       "True"
      ]
     },
     "execution_count": 28,
     "metadata": {},
     "output_type": "execute_result"
    }
   ],
   "source": [
    "np.allclose(L, R @ K)"
   ]
  },
  {
   "cell_type": "code",
   "execution_count": 29,
   "id": "398f7ffd",
   "metadata": {},
   "outputs": [
    {
     "data": {
      "text/plain": [
       "True"
      ]
     },
     "execution_count": 29,
     "metadata": {},
     "output_type": "execute_result"
    }
   ],
   "source": [
    "np.allclose(H, T @ R @ K)"
   ]
  },
  {
   "cell_type": "markdown",
   "id": "55cc3ea0",
   "metadata": {},
   "source": [
    "## Scale\n",
    "The stretch matrix $K$ can be further analyzed to obtain up to three scale matrices.\n",
    "\n",
    "$K = S_1 S_2 S_3$\n",
    "\n",
    "$H = T R S_1 S_2 S_3$\n",
    "\n",
    "Each eigenvalue of $K$ represents a scale factor $f_i$, and its corresponding eigenvector $X_i$ represents the scaling axis. Each pair ($f_i, X_i$) can be used to construct a scale matrix:\n",
    "\n",
    "$S_i = I + X_i X_i^T (f_i-1)$\n",
    "\n",
    "When $f_i = 1$ the result is an identity matrix, so the pair can be discarded."
   ]
  },
  {
   "cell_type": "code",
   "execution_count": 30,
   "id": "4c008304",
   "metadata": {},
   "outputs": [
    {
     "name": "stdout",
     "output_type": "stream",
     "text": [
      "[29.998 13.75   5.704  1.   ]\n"
     ]
    }
   ],
   "source": [
    "f, X = np.linalg.eig(K)\n",
    "print(f)"
   ]
  },
  {
   "cell_type": "code",
   "execution_count": 31,
   "id": "f432cbc0",
   "metadata": {},
   "outputs": [
    {
     "name": "stdout",
     "output_type": "stream",
     "text": [
      "[[ 1. -0. -0.  0.]\n",
      " [-0.  0. -1.  0.]\n",
      " [-0. -1. -0.  0.]\n",
      " [ 0.  0.  0.  1.]]\n"
     ]
    }
   ],
   "source": [
    "print(X)"
   ]
  },
  {
   "cell_type": "code",
   "execution_count": 32,
   "id": "155c4134",
   "metadata": {},
   "outputs": [
    {
     "name": "stdout",
     "output_type": "stream",
     "text": [
      "[[29.998 -0.    -0.     0.   ]\n",
      " [-0.     1.     0.     0.   ]\n",
      " [-0.     0.     1.     0.   ]\n",
      " [ 0.     0.     0.     1.   ]]\n",
      "[[ 1.   -0.    0.    0.  ]\n",
      " [-0.    1.   -0.    0.  ]\n",
      " [ 0.   -0.   13.75  0.  ]\n",
      " [ 0.    0.    0.    1.  ]]\n",
      "[[1.    0.    0.    0.   ]\n",
      " [0.    5.704 0.    0.   ]\n",
      " [0.    0.    1.    0.   ]\n",
      " [0.    0.    0.    1.   ]]\n"
     ]
    }
   ],
   "source": [
    "S = []\n",
    "for factor, axis in zip(f, X.T):\n",
    "    if not np.isclose(factor, 1):\n",
    "        scale = np.eye(4) + np.outer(axis, axis) * (factor-1)\n",
    "        S.append(scale)\n",
    "        print(scale)"
   ]
  },
  {
   "cell_type": "markdown",
   "id": "9f94aeb2",
   "metadata": {},
   "source": [
    "Check that $K = S_1S_2S_3$ and $H = TRS_1S_2S_3$:"
   ]
  },
  {
   "cell_type": "code",
   "execution_count": 33,
   "id": "afa41641",
   "metadata": {},
   "outputs": [
    {
     "data": {
      "text/plain": [
       "True"
      ]
     },
     "execution_count": 33,
     "metadata": {},
     "output_type": "execute_result"
    }
   ],
   "source": [
    "np.allclose(K, S[0] @ S[1] @ S[2])"
   ]
  },
  {
   "cell_type": "code",
   "execution_count": 34,
   "id": "10ac0df5",
   "metadata": {},
   "outputs": [
    {
     "data": {
      "text/plain": [
       "True"
      ]
     },
     "execution_count": 34,
     "metadata": {},
     "output_type": "execute_result"
    }
   ],
   "source": [
    "np.allclose(H, T @ R @ S[0] @ S[1] @ S[2])"
   ]
  },
  {
   "cell_type": "markdown",
   "id": "aef2b0c0",
   "metadata": {},
   "source": [
    "## Inverse Matrix"
   ]
  },
  {
   "cell_type": "code",
   "execution_count": 47,
   "id": "05c3f2d9",
   "metadata": {},
   "outputs": [
    {
     "name": "stdout",
     "output_type": "stream",
     "text": [
      "[[0.033335666830011434, -0.0, 0.0, -1.000140009800686], [-0.0, 0.1753220227252406, -0.0, -1.0000017532202274], [0.0, -0.0, 0.07272727272727274, -1.0], [-0.0, 0.0, -0.0, 1.0]]\n"
     ]
    }
   ],
   "source": [
    "import math\n",
    "def transposeMatrix(m):\n",
    "    return list(map(list,zip(*m)))\n",
    "\n",
    "def getMatrixMinor(m,i,j):\n",
    "    return [row[:j] + row[j+1:] for row in (m[:i]+m[i+1:])]\n",
    "\n",
    "def getMatrixDeternminant(m):\n",
    "    #base case for 2x2 matrix\n",
    "    if len(m) == 2:\n",
    "        return m[0][0]*m[1][1]-m[0][1]*m[1][0]\n",
    "\n",
    "    determinant = 0\n",
    "    for c in range(len(m)):\n",
    "        determinant += ((-1)**c)*m[0][c]*getMatrixDeternminant(getMatrixMinor(m,0,c))\n",
    "    return determinant\n",
    "\n",
    "def getMatrixInverse(m):\n",
    "    determinant = getMatrixDeternminant(m)\n",
    "    #special case for 2x2 matrix:\n",
    "    if len(m) == 2:\n",
    "        return [[m[1][1]/determinant, -1*m[0][1]/determinant],\n",
    "                [-1*m[1][0]/determinant, m[0][0]/determinant]]\n",
    "\n",
    "    #find matrix of cofactors\n",
    "    cofactors = []\n",
    "    for r in range(len(m)):\n",
    "        cofactorRow = []\n",
    "        for c in range(len(m)):\n",
    "            minor = getMatrixMinor(m,r,c)\n",
    "            cofactorRow.append(((-1)**(r+c)) * getMatrixDeternminant(minor))\n",
    "        cofactors.append(cofactorRow)\n",
    "    cofactors = transposeMatrix(cofactors)\n",
    "    for r in range(len(cofactors)):\n",
    "        for c in range(len(cofactors)):\n",
    "            cofactors[r][c] = cofactors[r][c]/determinant\n",
    "    return cofactors\n",
    "\n",
    "D = [[29.9979, 0.0, 0.0, 30.0021], [0, 5.70379, 0.0, 5.7038], [0, 0, 13.75, 13.75], [0,0,0,1]]\n",
    "\n",
    "D_inv = getMatrixInverse(D)\n",
    "print(D_inv)"
   ]
  },
  {
   "cell_type": "code",
   "execution_count": null,
   "id": "da33c1de",
   "metadata": {},
   "outputs": [],
   "source": []
  }
 ],
 "metadata": {
  "kernelspec": {
   "display_name": "Python 3 (ipykernel)",
   "language": "python",
   "name": "python3"
  },
  "language_info": {
   "codemirror_mode": {
    "name": "ipython",
    "version": 3
   },
   "file_extension": ".py",
   "mimetype": "text/x-python",
   "name": "python",
   "nbconvert_exporter": "python",
   "pygments_lexer": "ipython3",
   "version": "3.9.13"
  }
 },
 "nbformat": 4,
 "nbformat_minor": 5
}
