{
 "cells": [
  {
   "cell_type": "code",
   "execution_count": 4,
   "id": "4665c06e",
   "metadata": {},
   "outputs": [],
   "source": [
    "import nibabel as nb\n",
    "import tkinter as tk\n",
    "from tkinter import filedialog\n",
    "import os\n",
    "if __name__ == \"__main__\":\n",
    "    root = tk.Tk()\n",
    "    root.lift()\n",
    "    root.withdraw()\n",
    "    files = filedialog.askopenfilenames(title='Select Label Maps')\n",
    "    for file_path in files:\n",
    "        thal_file = os.path.join(file_path)\n",
    "        wtavg_nii = nb.load(thal_file)\n",
    "        wtavg_mat = wtavg_nii.get_fdata()\n",
    "        wtavg_mat[wtavg_mat != 0] = 362\n",
    "        se_nii = nb.Nifti1Image(wtavg_mat, wtavg_nii.affine, wtavg_nii.header)\n",
    "        nb.save(se_nii, thal_file.replace(\".nii\", \"_binary.nii\"))\n",
    "    \n",
    "  "
   ]
  },
  {
   "cell_type": "code",
   "execution_count": null,
   "id": "2eaf03d7",
   "metadata": {},
   "outputs": [],
   "source": []
  }
 ],
 "metadata": {
  "kernelspec": {
   "display_name": "Python 3 (ipykernel)",
   "language": "python",
   "name": "python3"
  },
  "language_info": {
   "codemirror_mode": {
    "name": "ipython",
    "version": 3
   },
   "file_extension": ".py",
   "mimetype": "text/x-python",
   "name": "python",
   "nbconvert_exporter": "python",
   "pygments_lexer": "ipython3",
   "version": "3.9.13"
  }
 },
 "nbformat": 4,
 "nbformat_minor": 5
}
