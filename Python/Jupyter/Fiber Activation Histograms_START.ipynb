{
 "cells": [
  {
   "cell_type": "code",
   "execution_count": 32,
   "metadata": {},
   "outputs": [],
   "source": [
    "import os\n",
    "import pandas as pd\n",
    "import seaborn as sns; sns.set()\n",
    "from IPython.display import display, Math, Latex\n",
    "import matplotlib\n",
    "import matplotlib.pyplot as plt\n",
    "import numpy as np\n",
    "from pylab import *\n",
    "import tkinter as tk\n",
    "from tkinter import filedialog\n",
    "%matplotlib inline"
   ]
  },
  {
   "cell_type": "code",
   "execution_count": 33,
   "metadata": {},
   "outputs": [],
   "source": [
    "# Function Definitions\n",
    "\n",
    "def subtractDataframeColumns(a,b,x,y):\n",
    "    b.index = a.index\n",
    "    a['Val_Diff'] = a[y] - b[y]\n",
    "    return a\n"
   ]
  },
  {
   "cell_type": "markdown",
   "metadata": {},
   "source": [
    "# Right Side"
   ]
  },
  {
   "cell_type": "code",
   "execution_count": 34,
   "metadata": {
    "scrolled": true
   },
   "outputs": [
    {
     "data": {
      "text/html": [
       "<div>\n",
       "<style scoped>\n",
       "    .dataframe tbody tr th:only-of-type {\n",
       "        vertical-align: middle;\n",
       "    }\n",
       "\n",
       "    .dataframe tbody tr th {\n",
       "        vertical-align: top;\n",
       "    }\n",
       "\n",
       "    .dataframe thead th {\n",
       "        text-align: right;\n",
       "    }\n",
       "</style>\n",
       "<table border=\"1\" class=\"dataframe\">\n",
       "  <thead>\n",
       "    <tr style=\"text-align: right;\">\n",
       "      <th></th>\n",
       "      <th>Percent_Activation</th>\n",
       "      <th>Contact</th>\n",
       "      <th>Amplitude</th>\n",
       "      <th>Fiber_Name</th>\n",
       "    </tr>\n",
       "  </thead>\n",
       "  <tbody>\n",
       "    <tr>\n",
       "      <th>0</th>\n",
       "      <td>57.078652</td>\n",
       "      <td>0</td>\n",
       "      <td>1</td>\n",
       "      <td>Clseed</td>\n",
       "    </tr>\n",
       "    <tr>\n",
       "      <th>1</th>\n",
       "      <td>76.853933</td>\n",
       "      <td>0</td>\n",
       "      <td>2</td>\n",
       "      <td>Clseed</td>\n",
       "    </tr>\n",
       "    <tr>\n",
       "      <th>2</th>\n",
       "      <td>84.943820</td>\n",
       "      <td>0</td>\n",
       "      <td>3</td>\n",
       "      <td>Clseed</td>\n",
       "    </tr>\n",
       "    <tr>\n",
       "      <th>3</th>\n",
       "      <td>90.337079</td>\n",
       "      <td>0</td>\n",
       "      <td>4</td>\n",
       "      <td>Clseed</td>\n",
       "    </tr>\n",
       "    <tr>\n",
       "      <th>4</th>\n",
       "      <td>94.606742</td>\n",
       "      <td>0</td>\n",
       "      <td>5</td>\n",
       "      <td>Clseed</td>\n",
       "    </tr>\n",
       "  </tbody>\n",
       "</table>\n",
       "</div>"
      ],
      "text/plain": [
       "   Percent_Activation  Contact  Amplitude Fiber_Name\n",
       "0           57.078652        0          1     Clseed\n",
       "1           76.853933        0          2     Clseed\n",
       "2           84.943820        0          3     Clseed\n",
       "3           90.337079        0          4     Clseed\n",
       "4           94.606742        0          5     Clseed"
      ]
     },
     "execution_count": 34,
     "metadata": {},
     "output_type": "execute_result"
    }
   ],
   "source": [
    "# Right data\n",
    "root = tk.Tk()\n",
    "root.lift()\n",
    "root.withdraw()\n",
    "file_path = filedialog.askopenfilename(title='Right Side')\n",
    "\n",
    "df_right = pd.read_csv(file_path)\n",
    "df_right.head()"
   ]
  },
  {
   "cell_type": "code",
   "execution_count": 35,
   "metadata": {
    "scrolled": false
   },
   "outputs": [
    {
     "data": {
      "image/png": "[encoded data removed]",
      "text/plain": [
       "<Figure size 720x216 with 1 Axes>"
      ]
     },
     "metadata": {},
     "output_type": "display_data"
    }
   ],
   "source": [
    "plt.rcParams['figure.figsize']=10,3\n",
    "sns.set(style='white',color_codes=True)\n",
    "\n",
    "colors = [\"#253494\", \"#F2F275\", \"#2c7fb8\", \"#54DB81\", \"#47D8EA\"]\n",
    "#colors = [\"#253494\", \"#F2F275\", \"#54DB81\"]\n",
    "#colors = [\"#253494\", \"#F2F275\", \"#FFFFFF\"]\n",
    "\n",
    "#df_right = df_right.drop(df_right[df_right.Fiber_Name == 'VPLseed'].index)\n",
    "#df_right = df_right.drop(df_right[df_right.Fiber_Name == 'PPNseed'].index)\n",
    "fig0_R = plt.figure()\n",
    "ax2 = fig0_R.add_subplot(1,1,1)\n",
    "df_right_0 = df_right[df_right['Contact'] == 0]\n",
    "ax2 = sns.barplot(x=\"Amplitude\", y=\"Percent_Activation\", hue=\"Fiber_Name\", palette=colors, data=df_right_0)\n",
    "ax2.set(ylim=(0, 100))\n",
    "ax2.legend_.remove()\n",
    "ax2.set_ylabel('')    \n",
    "ax2.set_xlabel('')\n",
    "ax2.set_yticks([])\n",
    "ax2.set_xticks([])\n",
    "fig0_R = ax2.get_figure()"
   ]
  },
  {
   "cell_type": "code",
   "execution_count": 36,
   "metadata": {
    "scrolled": false
   },
   "outputs": [
    {
     "data": {
      "image/png": "[encoded data removed]",
      "text/plain": [
       "<Figure size 720x216 with 1 Axes>"
      ]
     },
     "metadata": {},
     "output_type": "display_data"
    }
   ],
   "source": [
    "plt.rcParams['figure.figsize']=10,3\n",
    "sns.set(style='white',color_codes=True)\n",
    "\n",
    "colors = [\"#253494\", \"#F2F275\", \"#2c7fb8\", \"#54DB81\", \"#47D8EA\"]\n",
    "#colors = [\"#253494\", \"#F2F275\", \"#54DB81\"]\n",
    "#colors = [\"#253494\", \"#F2F275\", \"#FFFFFF\"]\n",
    "\n",
    "#df_right = df_right.drop(df_right[df_right.Fiber_Name == 'VPLseed'].index)\n",
    "#df_right = df_right.drop(df_right[df_right.Fiber_Name == 'PPNseed'].index)\n",
    "fig1_R = plt.figure()\n",
    "ax2 = fig1_R.add_subplot(1,1,1)\n",
    "df_right_0 = df_right[df_right['Contact'] == 1]\n",
    "ax2 = sns.barplot(x=\"Amplitude\", y=\"Percent_Activation\", hue=\"Fiber_Name\", palette=colors, data=df_right_0)\n",
    "ax2.set(ylim=(0, 100))\n",
    "ax2.legend_.remove()\n",
    "ax2.set_ylabel('')    \n",
    "ax2.set_xlabel('')\n",
    "ax2.set_yticks([])\n",
    "ax2.set_xticks([])\n",
    "fig1_R = ax2.get_figure()"
   ]
  },
  {
   "cell_type": "code",
   "execution_count": 37,
   "metadata": {},
   "outputs": [
    {
     "data": {
      "image/png": "[encoded data removed]",
      "text/plain": [
       "<Figure size 720x216 with 1 Axes>"
      ]
     },
     "metadata": {},
     "output_type": "display_data"
    }
   ],
   "source": [
    "plt.rcParams['figure.figsize']=10,3\n",
    "sns.set(style='white',color_codes=True)\n",
    "\n",
    "colors = [\"#253494\", \"#F2F275\", \"#2c7fb8\", \"#54DB81\", \"#47D8EA\"]\n",
    "#colors = [\"#253494\", \"#F2F275\", \"#54DB81\"]\n",
    "#colors = [\"#253494\", \"#F2F275\", \"#FFFFFF\"]\n",
    "\n",
    "#df_right = df_right.drop(df_right[df_right.Fiber_Name == 'VPLseed'].index)\n",
    "#df_right = df_right.drop(df_right[df_right.Fiber_Name == 'PPNseed'].index)\n",
    "fig2_R = plt.figure()\n",
    "ax2 = fig2_R.add_subplot(1,1,1)\n",
    "df_right_0 = df_right[df_right['Contact'] == 2]\n",
    "ax2 = sns.barplot(x=\"Amplitude\", y=\"Percent_Activation\", hue=\"Fiber_Name\", palette=colors, data=df_right_0)\n",
    "ax2.set(ylim=(0, 100))\n",
    "ax2.legend_.remove()\n",
    "ax2.set_ylabel('')    \n",
    "ax2.set_xlabel('')\n",
    "ax2.set_yticks([])\n",
    "ax2.set_xticks([])\n",
    "fig2_R = ax2.get_figure()"
   ]
  },
  {
   "cell_type": "code",
   "execution_count": 38,
   "metadata": {
    "scrolled": true
   },
   "outputs": [
    {
     "data": {
      "image/png": "[encoded data removed]",
      "text/plain": [
       "<Figure size 720x216 with 1 Axes>"
      ]
     },
     "metadata": {},
     "output_type": "display_data"
    }
   ],
   "source": [
    "plt.rcParams['figure.figsize']=10,3\n",
    "sns.set(style='white',color_codes=True)\n",
    "\n",
    "colors = [\"#253494\", \"#F2F275\", \"#2c7fb8\", \"#54DB81\", \"#47D8EA\"]\n",
    "#colors = [\"#253494\", \"#F2F275\", \"#54DB81\"]\n",
    "#colors = [\"#253494\", \"#F2F275\", \"#FFFFFF\"]\n",
    "\n",
    "#df_right = df_right.drop(df_right[df_right.Fiber_Name == 'VPLseed'].index)\n",
    "#df_right = df_right.drop(df_right[df_right.Fiber_Name == 'PPNseed'].index)\n",
    "fig3_R = plt.figure()\n",
    "ax2 = fig3_R.add_subplot(1,1,1)\n",
    "df_right_0 = df_right[df_right['Contact'] == 3]\n",
    "ax2 = sns.barplot(x=\"Amplitude\", y=\"Percent_Activation\", hue=\"Fiber_Name\", palette=colors, data=df_right_0)\n",
    "ax2.set(ylim=(0, 100))\n",
    "ax2.legend_.remove()\n",
    "ax2.set_ylabel('')    \n",
    "ax2.set_xlabel('')\n",
    "ax2.set_yticks([])\n",
    "ax2.set_xticks([])\n",
    "fig3_R = ax2.get_figure()"
   ]
  },
  {
   "cell_type": "markdown",
   "metadata": {},
   "source": [
    "# Left Side"
   ]
  },
  {
   "cell_type": "code",
   "execution_count": 39,
   "metadata": {},
   "outputs": [
    {
     "data": {
      "text/html": [
       "<div>\n",
       "<style scoped>\n",
       "    .dataframe tbody tr th:only-of-type {\n",
       "        vertical-align: middle;\n",
       "    }\n",
       "\n",
       "    .dataframe tbody tr th {\n",
       "        vertical-align: top;\n",
       "    }\n",
       "\n",
       "    .dataframe thead th {\n",
       "        text-align: right;\n",
       "    }\n",
       "</style>\n",
       "<table border=\"1\" class=\"dataframe\">\n",
       "  <thead>\n",
       "    <tr style=\"text-align: right;\">\n",
       "      <th></th>\n",
       "      <th>Percent_Activation</th>\n",
       "      <th>Contact</th>\n",
       "      <th>Amplitude</th>\n",
       "      <th>Fiber_Name</th>\n",
       "    </tr>\n",
       "  </thead>\n",
       "  <tbody>\n",
       "    <tr>\n",
       "      <th>0</th>\n",
       "      <td>67.901235</td>\n",
       "      <td>0</td>\n",
       "      <td>1</td>\n",
       "      <td>Clseed</td>\n",
       "    </tr>\n",
       "    <tr>\n",
       "      <th>1</th>\n",
       "      <td>84.156379</td>\n",
       "      <td>0</td>\n",
       "      <td>2</td>\n",
       "      <td>Clseed</td>\n",
       "    </tr>\n",
       "    <tr>\n",
       "      <th>2</th>\n",
       "      <td>91.358025</td>\n",
       "      <td>0</td>\n",
       "      <td>3</td>\n",
       "      <td>Clseed</td>\n",
       "    </tr>\n",
       "    <tr>\n",
       "      <th>3</th>\n",
       "      <td>94.444444</td>\n",
       "      <td>0</td>\n",
       "      <td>4</td>\n",
       "      <td>Clseed</td>\n",
       "    </tr>\n",
       "    <tr>\n",
       "      <th>4</th>\n",
       "      <td>96.296296</td>\n",
       "      <td>0</td>\n",
       "      <td>5</td>\n",
       "      <td>Clseed</td>\n",
       "    </tr>\n",
       "  </tbody>\n",
       "</table>\n",
       "</div>"
      ],
      "text/plain": [
       "   Percent_Activation  Contact  Amplitude Fiber_Name\n",
       "0           67.901235        0          1     Clseed\n",
       "1           84.156379        0          2     Clseed\n",
       "2           91.358025        0          3     Clseed\n",
       "3           94.444444        0          4     Clseed\n",
       "4           96.296296        0          5     Clseed"
      ]
     },
     "execution_count": 39,
     "metadata": {},
     "output_type": "execute_result"
    }
   ],
   "source": [
    "# Left data\n",
    "root = tk.Tk()\n",
    "root.withdraw()\n",
    "file_path = filedialog.askopenfilename(title='Left Side')\n",
    "\n",
    "df_left = pd.read_csv(file_path)\n",
    "df_left.head()"
   ]
  },
  {
   "cell_type": "code",
   "execution_count": 40,
   "metadata": {
    "scrolled": false
   },
   "outputs": [
    {
     "data": {
      "image/png": "[encoded data removed]",
      "text/plain": [
       "<Figure size 720x216 with 1 Axes>"
      ]
     },
     "metadata": {},
     "output_type": "display_data"
    }
   ],
   "source": [
    "plt.rcParams['figure.figsize']=10,3\n",
    "sns.set(style='white',color_codes=True)\n",
    "\n",
    "colors = [\"#253494\", \"#F2F275\", \"#2c7fb8\", \"#54DB81\", \"#47D8EA\"]\n",
    "fig0_L = plt.figure()\n",
    "ax2 = fig0_L.add_subplot(1,1,1)\n",
    "df_left_0 = df_left[df_left['Contact'] == 0]\n",
    "ax2 = sns.barplot(x=\"Amplitude\", y=\"Percent_Activation\", hue=\"Fiber_Name\", palette=colors, data=df_left_0)\n",
    "ax2.set(ylim=(0, 100))\n",
    "ax2.legend_.remove()\n",
    "ax2.set_ylabel('')    \n",
    "ax2.set_xlabel('')\n",
    "ax2.set_yticks([])\n",
    "ax2.set_xticks([])\n",
    "fig0_L = ax2.get_figure()"
   ]
  },
  {
   "cell_type": "code",
   "execution_count": 41,
   "metadata": {},
   "outputs": [
    {
     "data": {
      "image/png": "[encoded data removed]",
      "text/plain": [
       "<Figure size 720x216 with 1 Axes>"
      ]
     },
     "metadata": {},
     "output_type": "display_data"
    }
   ],
   "source": [
    "plt.rcParams['figure.figsize']=10,3\n",
    "sns.set(style='white',color_codes=True)\n",
    "\n",
    "colors = [\"#253494\", \"#F2F275\", \"#2c7fb8\", \"#54DB81\", \"#47D8EA\"]\n",
    "fig1_L = plt.figure()\n",
    "ax2 = fig1_L.add_subplot(1,1,1)\n",
    "df_left_0 = df_left[df_left['Contact'] == 1]\n",
    "ax2 = sns.barplot(x=\"Amplitude\", y=\"Percent_Activation\", hue=\"Fiber_Name\", palette=colors, data=df_left_0)\n",
    "ax2.set(ylim=(0, 100))\n",
    "ax2.legend_.remove()\n",
    "ax2.set_ylabel('')    \n",
    "ax2.set_xlabel('')\n",
    "ax2.set_yticks([])\n",
    "ax2.set_xticks([])\n",
    "fig1_L = ax2.get_figure()"
   ]
  },
  {
   "cell_type": "code",
   "execution_count": 42,
   "metadata": {
    "scrolled": true
   },
   "outputs": [
    {
     "data": {
      "image/png": "[encoded data removed]",
      "text/plain": [
       "<Figure size 720x216 with 1 Axes>"
      ]
     },
     "metadata": {},
     "output_type": "display_data"
    }
   ],
   "source": [
    "plt.rcParams['figure.figsize']=10,3\n",
    "sns.set(style='white',color_codes=True)\n",
    "\n",
    "colors = [\"#253494\", \"#F2F275\", \"#2c7fb8\", \"#54DB81\", \"#47D8EA\"]\n",
    "fig2_L = plt.figure()\n",
    "ax2 = fig2_L.add_subplot(1,1,1)\n",
    "df_left_0 = df_left[df_left['Contact'] == 2]\n",
    "ax2 = sns.barplot(x=\"Amplitude\", y=\"Percent_Activation\", hue=\"Fiber_Name\", palette=colors, data=df_left_0)\n",
    "ax2.set(ylim=(0, 100))\n",
    "ax2.legend_.remove()\n",
    "ax2.set_ylabel('')    \n",
    "ax2.set_xlabel('')\n",
    "ax2.set_yticks([])\n",
    "ax2.set_xticks([])\n",
    "fig2_L = ax2.get_figure()"
   ]
  },
  {
   "cell_type": "code",
   "execution_count": 43,
   "metadata": {
    "scrolled": true
   },
   "outputs": [
    {
     "data": {
      "image/png": "[encoded data removed]",
      "text/plain": [
       "<Figure size 720x216 with 1 Axes>"
      ]
     },
     "metadata": {},
     "output_type": "display_data"
    }
   ],
   "source": [
    "plt.rcParams['figure.figsize']=10,3\n",
    "sns.set(style='white',color_codes=True)\n",
    "\n",
    "colors = [\"#253494\", \"#F2F275\", \"#2c7fb8\", \"#54DB81\", \"#47D8EA\"]\n",
    "fig3_L = plt.figure()\n",
    "ax2 = fig3_L.add_subplot(1,1,1)\n",
    "df_left_0 = df_left[df_left['Contact'] == 3]\n",
    "ax2 = sns.barplot(x=\"Amplitude\", y=\"Percent_Activation\", hue=\"Fiber_Name\", palette=colors, data=df_left_0)\n",
    "ax2.set(ylim=(0, 100))\n",
    "ax2.legend_.remove()\n",
    "ax2.set_ylabel('')    \n",
    "ax2.set_xlabel('')\n",
    "ax2.set_yticks([])\n",
    "ax2.set_xticks([])\n",
    "fig3_L = ax2.get_figure()"
   ]
  },
  {
   "cell_type": "markdown",
   "metadata": {},
   "source": [
    "# Complete Plot"
   ]
  },
  {
   "cell_type": "code",
   "execution_count": 44,
   "metadata": {},
   "outputs": [
    {
     "data": {
      "image/png": "[encoded data removed]",
      "text/plain": [
       "<Figure size 1440x720 with 8 Axes>"
      ]
     },
     "metadata": {},
     "output_type": "display_data"
    }
   ],
   "source": [
    "pd.options.mode.chained_assignment = None #hides some annoying warnings (nothing to worry about)\n",
    "df_left_sub = df_left\n",
    "df_right_sub = df_right\n",
    "\n",
    "#Replace fiber names to be more readable\n",
    "fibers_old = ['Clseed','MDseed','VPLseed','CMseed','PPNseed']\n",
    "fibers_new = ['CL Target','MD Avoid','VPL Avoid','CM Avoid','PPN Target'] #change these when you need to\n",
    "count = 0\n",
    "for fiber_old in fibers_old:\n",
    "    indices = [i for i, x in enumerate(df_left_sub['Fiber_Name']) if x == fiber_old]\n",
    "    df_left_sub['Fiber_Name'][indices] = fibers_new[count] #helps set titles in the legend\n",
    "    df_right_sub['Fiber_Name'][indices] = fibers_new[count]\n",
    "    count += 1\n",
    "\n",
    "\n",
    "\n",
    "plt.rcParams['figure.figsize']=20,10\n",
    "sns.set(style='white',color_codes=True)\n",
    "\n",
    "colors = [\"#253494\", \"#F2F275\", \"#2c7fb8\", \"#54DB81\", \"#47D8EA\"]\n",
    "#colors = ['#253494', '#F2F275', '#ffb026', '#d55e00', '#47D8EA']\n",
    "fig = plt.figure()\n",
    "location = [8,6,4,2] #subplot locations\n",
    "\n",
    "for contact in range(0,4,1):\n",
    "    #print(contact)\n",
    "    df_left_sub = df_left[df_left['Contact'] == contact]\n",
    "    df_right_sub = df_right[df_right['Contact'] == contact]\n",
    "    contact_name = 'C' + str(contact) #contact labels on y axis\n",
    "    #Left Side\n",
    "    ax = fig.add_subplot(4,2,location[contact]-1)\n",
    "    ax = sns.barplot(x=\"Amplitude\", y=\"Percent_Activation\", hue=\"Fiber_Name\", palette=colors, data=df_left_sub)\n",
    "    ax.set(ylim=(0, 100))\n",
    "    ax.set_ylabel(contact_name,fontsize=25,rotation=0,fontweight='bold')\n",
    "    ax.yaxis.set_label_coords(-0.05,0.45)\n",
    "    ax.set_xlabel('')\n",
    "    ax.set_yticks([])\n",
    "    if contact != 0:\n",
    "        ax.set_xticks([])\n",
    "    else:\n",
    "        ax.set_xticklabels([-1,-2,-3,-4,-5],fontsize=25) #amplitude values\n",
    "        ax.set_xlabel('Amplitude (mA)',fontsize=20,fontweight='bold')\n",
    "    if contact == 3:\n",
    "        ax.set_title('LEFT',fontsize=25,y=1.2,fontweight='bold')\n",
    "        ax.legend(bbox_to_anchor=(1.6,-0.5),prop={'size':25}) #legend formatting, only 1 is needed\n",
    "    else:\n",
    "        ax.legend_.remove()\n",
    "    \n",
    "    #Right Side\n",
    "    ax = fig.add_subplot(4,2,location[contact])\n",
    "    ax = sns.barplot(x=\"Amplitude\", y=\"Percent_Activation\", hue=\"Fiber_Name\", palette=colors, data=df_right_sub)\n",
    "    ax.set(ylim=(0, 100))\n",
    "    ax.legend_.remove()\n",
    "    ax.set_ylabel(contact_name,fontsize=25,rotation=0,fontweight='bold')  \n",
    "    ax.yaxis.set_label_coords(-0.05,0.45)\n",
    "    ax.set_xlabel('')\n",
    "    ax.set_yticks([])\n",
    "    if contact != 0:\n",
    "        ax.set_xticks([])\n",
    "    else:\n",
    "        ax.set_xticklabels([-1,-2,-3,-4,-5],fontsize=25)\n",
    "        ax.set_xlabel('Amplitude (mA)',fontsize=20,fontweight='bold')\n",
    "    if contact == 3:\n",
    "        ax.set_title('RIGHT',fontsize=25,y=1.2,fontweight='bold')\n",
    "\n",
    "plt.subplots_adjust(wspace=0.7) #give more space between the plots   \n",
    "fig.text(0.06,0.5,'Percent Activation',va = 'center',rotation='vertical',fontsize=25,fontweight='bold')\n",
    "fig.suptitle('Test',fontsize=30,fontweight='bold')\n",
    "plt.show()"
   ]
  },
  {
   "cell_type": "code",
   "execution_count": 45,
   "metadata": {},
   "outputs": [
    {
     "data": {
      "image/png": "[encoded data removed]",
      "text/plain": [
       "<Figure size 720x216 with 2 Axes>"
      ]
     },
     "metadata": {},
     "output_type": "display_data"
    }
   ],
   "source": [
    "pd.options.mode.chained_assignment = None #hides some annoying warnings (nothing to worry about)\n",
    "df_left_sub = df_left\n",
    "df_right_sub = df_right\n",
    "\n",
    "#Replace fiber names to be more readable\n",
    "fibers_old = ['Clseed','MDseed','VPLseed','CMseed','PPNseed']\n",
    "fibers_new = ['CL','MD','VPL','CM','PPN'] #change these when you need to\n",
    "count = 0\n",
    "for fiber_old in fibers_old:\n",
    "    indices = [i for i, x in enumerate(df_left_sub['Fiber_Name']) if x == fiber_old]\n",
    "    df_left_sub['Fiber_Name'][indices] = fibers_new[count] #helps set titles in the legend\n",
    "    df_right_sub['Fiber_Name'][indices] = fibers_new[count]\n",
    "    count += 1\n",
    "\n",
    "\n",
    "\n",
    "plt.rcParams['figure.figsize']=10,3\n",
    "sns.set(style='white',color_codes=True)\n",
    "\n",
    "colors = [\"#253494\", \"#F2F275\", \"#2c7fb8\", \"#54DB81\", \"#47D8EA\"]\n",
    "#colors = ['#253494', '#F2F275', '#ffb026', '#d55e00', '#47D8EA']\n",
    "fig = plt.figure()\n",
    "#location = [8,6,4,2] #subplot locations\n",
    "location = [2]\n",
    "\n",
    "for contact in range(0,1,1):\n",
    "    #print(contact)\n",
    "    df_left_sub = df_left[df_left['Contact'] == contact]\n",
    "    df_left_sub = df_left_sub[df_left_sub['Amplitude'] == 1]\n",
    "    df_right_sub = df_right[df_right['Contact'] == contact]\n",
    "    df_right_sub = df_right_sub[df_right_sub['Amplitude'] == 1]\n",
    "    contact_name = 'C' + str(contact) #contact labels on y axis\n",
    "    #Left Side\n",
    "    ax = fig.add_subplot(1,2,location[contact]-1)\n",
    "    ax = sns.barplot(x=\"Amplitude\", y=\"Percent_Activation\", hue=\"Fiber_Name\", palette=colors, data=df_left_sub)\n",
    "    ax.set(ylim=(0, 100))\n",
    "    ax.set_ylabel('')\n",
    "    ax.yaxis.set_label_coords(-0.05,0.45)\n",
    "    ax.set_xlabel('')\n",
    "    ax.set_yticks([])\n",
    "    if contact != 0:\n",
    "        ax.set_xticks([])\n",
    "    else:\n",
    "        ax.set_xticklabels(['-6.6 mA'],fontsize=20) #amplitude values ##########################################\n",
    "        #ax.set_xlabel('Amplitude (mA)',fontsize=20,fontweight='bold')\n",
    "    if contact == 0:\n",
    "        ax.set_title('LEFT\\nE2-,E3-,E16+',fontsize=20,y=1.1,fontweight='bold') ###################################\n",
    "        ax.legend(bbox_to_anchor=(1,0.9),prop={'size':15}) #legend formatting, only 1 is needed\n",
    "    else:\n",
    "        ax.legend_.remove()\n",
    "    \n",
    "    #Right Side\n",
    "    ax = fig.add_subplot(1,2,location[contact])\n",
    "    ax = sns.barplot(x=\"Amplitude\", y=\"Percent_Activation\", hue=\"Fiber_Name\", palette=colors, data=df_right_sub)\n",
    "    ax.set(ylim=(0, 100))\n",
    "    ax.legend_.remove()\n",
    "    ax.set_ylabel('')\n",
    "    ax.yaxis.set_label_coords(-0.05,0.45)\n",
    "    ax.set_xlabel('')\n",
    "    ax.set_yticks([])\n",
    "    if contact != 0:\n",
    "        ax.set_xticks([])\n",
    "    else:\n",
    "        ax.set_xticklabels(['-6.6 mA'],fontsize=20) ###################################################\n",
    "        #ax.set_xlabel('Amplitude (mA)',fontsize=20,fontweight='bold')\n",
    "    if contact == 0:\n",
    "        ax.set_title('RIGHT\\nE10-,E11-,E16+',fontsize=20,y=1.1,fontweight='bold') ################################\n",
    "\n",
    "plt.subplots_adjust(wspace=0.7) #give more space between the plots   \n",
    "fig.text(0.09,0.55,'Percent Activation',va = 'center',rotation='vertical',fontsize=15)\n",
    "subject_name = 'S0' + file_path.split('SCIRun')[0].split('/')[-2][-3:]\n",
    "fig.suptitle(subject_name,fontsize=30,fontweight='bold',x=0.515,y=1.3)\n",
    "plt.show()\n"
   ]
  },
  {
   "cell_type": "code",
   "execution_count": 46,
   "metadata": {},
   "outputs": [
    {
     "name": "stdout",
     "output_type": "stream",
     "text": [
      "Z:/Dropbox (UFL)/Projects/BlumenfeldUH3_START/START_Data/pYA103/Snippets/S0103_-6.6_mA_lower_PW.png\n"
     ]
    }
   ],
   "source": [
    "pic_name = subject_name + '_-6.6_mA_lower_PW.png'\n",
    "\n",
    "pic_path = file_path.split('SCIRun')[0] + 'Snippets/' + pic_name\n",
    "print(pic_path)\n",
    "if os.path.isfile(pic_path):\n",
    "    overwrite = input('\\nFile exists, overwrite? (Y/N)\\n')\n",
    "    if overwrite in 'Yes':\n",
    "        fig.savefig(pic_path,dpi=1000,bbox_inches='tight')\n",
    "        print('\\nFile overwritten\\n')\n",
    "    else:\n",
    "        print('\\nFile will not be overwritten\\n')\n",
    "else:\n",
    "    fig.savefig(pic_path,dpi=1000,bbox_inches='tight')"
   ]
  }
 ],
 "metadata": {
  "kernelspec": {
   "display_name": "Python 3 (ipykernel)",
   "language": "python",
   "name": "python3"
  },
  "language_info": {
   "codemirror_mode": {
    "name": "ipython",
    "version": 3
   },
   "file_extension": ".py",
   "mimetype": "text/x-python",
   "name": "python",
   "nbconvert_exporter": "python",
   "pygments_lexer": "ipython3",
   "version": "3.9.13"
  }
 },
 "nbformat": 4,
 "nbformat_minor": 2
}
