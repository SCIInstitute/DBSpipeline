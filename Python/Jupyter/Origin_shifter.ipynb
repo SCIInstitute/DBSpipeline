{
 "cells": [
  {
   "cell_type": "markdown",
   "id": "1dcad63a",
   "metadata": {},
   "source": [
    "## To Planner"
   ]
  },
  {
   "cell_type": "code",
   "execution_count": 3,
   "id": "3f2af9d7",
   "metadata": {},
   "outputs": [
    {
     "name": "stdout",
     "output_type": "stream",
     "text": [
      "Entry: 24.85429030142725 55.17964942187071 71.81074346482754\n",
      "\n",
      "\n",
      "Tip: 7.487852352559566 -9.226157338593154 9.724374848455192\n"
     ]
    }
   ],
   "source": [
    "# Coordinates\n",
    "SCIx_in = 24.714790301427247\n",
    "SCIy_in = 71.206149421870705\n",
    "SCIz_in = 71.888743464827542\n",
    "\n",
    "SCIx_tip = 7.348352352559566\n",
    "SCIy_tip = 6.800342661406844\n",
    "SCIz_tip = 9.802374848455191\n",
    "\n",
    "#origin\n",
    "x0 = -0.1395\n",
    "y0 = 16.0265\n",
    "z0 = 0.078\n",
    "\n",
    "Planx_tip = SCIx_tip - x0\n",
    "Plany_tip = SCIy_tip - y0\n",
    "Planz_tip = SCIz_tip - z0\n",
    "\n",
    "Planx_in = SCIx_in - x0\n",
    "Plany_in = SCIy_in - y0\n",
    "Planz_in = SCIz_in - z0\n",
    "\n",
    "print('Entry:',Planx_in, Plany_in, Planz_in)\n",
    "print('\\n')\n",
    "print('Tip:',Planx_tip, Plany_tip, Planz_tip)"
   ]
  },
  {
   "cell_type": "markdown",
   "id": "385afc18",
   "metadata": {},
   "source": [
    "## To SCIRun"
   ]
  },
  {
   "cell_type": "code",
   "execution_count": 2,
   "id": "0a7e5da7",
   "metadata": {},
   "outputs": [
    {
     "name": "stdout",
     "output_type": "stream",
     "text": [
      "Entry: 24.4095 40.8035 70.452\n",
      "\n",
      "\n",
      "Tip: 9.2595 -24.6865 7.632\n"
     ]
    }
   ],
   "source": [
    "# Coordinates\n",
    "Planx_in = 24.27\n",
    "Plany_in = 56.83\n",
    "Planz_in = 70.53\n",
    "\n",
    "Planx_tip = 9.12\n",
    "Plany_tip = -8.66\n",
    "Planz_tip = 7.71\n",
    "\n",
    "#origin\n",
    "x0 = -0.1395\n",
    "y0 = 16.0265\n",
    "z0 = 0.078\n",
    "\n",
    "SCIx_tip = Planx_tip + x0\n",
    "SCIy_tip = Plany_tip + y0\n",
    "SCIz_tip = Planz_tip + z0\n",
    "\n",
    "SCIx_in = Planx_in + x0\n",
    "SCIy_in = Plany_in + y0\n",
    "SCIz_in = Planz_in + z0\n",
    "\n",
    "print('Entry:',SCIx_in, SCIy_in, SCIz_in)\n",
    "print('\\n')\n",
    "print('Tip:',SCIx_tip, SCIy_tip, SCIz_tip)"
   ]
  },
  {
   "cell_type": "code",
   "execution_count": null,
   "id": "c91f1a84",
   "metadata": {},
   "outputs": [],
   "source": []
  }
 ],
 "metadata": {
  "kernelspec": {
   "display_name": "Python 3 (ipykernel)",
   "language": "python",
   "name": "python3"
  },
  "language_info": {
   "codemirror_mode": {
    "name": "ipython",
    "version": 3
   },
   "file_extension": ".py",
   "mimetype": "text/x-python",
   "name": "python",
   "nbconvert_exporter": "python",
   "pygments_lexer": "ipython3",
   "version": "3.9.13"
  }
 },
 "nbformat": 4,
 "nbformat_minor": 5
}
