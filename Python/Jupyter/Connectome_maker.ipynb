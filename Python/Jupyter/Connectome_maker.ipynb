{
 "cells": [
  {
   "cell_type": "code",
   "execution_count": 97,
   "id": "99fb6716",
   "metadata": {},
   "outputs": [],
   "source": [
    "import nibabel\n",
    "import nibabel.processing\n",
    "import tkinter as tk\n",
    "from tkinter import filedialog\n",
    "import glob\n",
    "import numpy as np"
   ]
  },
  {
   "cell_type": "code",
   "execution_count": 98,
   "id": "dc8e2851",
   "metadata": {},
   "outputs": [
    {
     "name": "stdout",
     "output_type": "stream",
     "text": [
      "D:/Linux/Freesurfer/Surface_transform/START/S0103\n"
     ]
    }
   ],
   "source": [
    "root = tk.Tk()\n",
    "root.lift()\n",
    "root.withdraw()\n",
    "file_dir = filedialog.askdirectory(title='Volumes Directory')\n",
    "print(file_dir)\n",
    "\n",
    "#Load HCP and grab all other nifti volumes to add\n",
    "HCP = nibabel.load(glob.glob(file_dir+r'/*HCP.nii.gz')[0])\n",
    "files = glob.glob(file_dir+r'/*[!HCP].nii.gz')"
   ]
  },
  {
   "cell_type": "code",
   "execution_count": 99,
   "id": "a7fc8a9b",
   "metadata": {},
   "outputs": [],
   "source": [
    "#Re-label each volume to match with HCP data\n",
    "HCP_data = HCP.get_fdata()\n",
    "count = int(np.max(HCP_data)) #highest value in labelmap\n",
    "All_data = HCP_data.copy()\n",
    "for file in files:\n",
    "    count = count + 1\n",
    "    filename = file.split('\\\\')[1].split('.nii')[0]\n",
    "    img = nibabel.load(file)\n",
    "    img_resamp = nibabel.processing.resample_from_to(img, HCP,order=1)\n",
    "    \n",
    "    img_data = img_resamp.get_fdata()\n",
    "    All_data[img_data != 0] = count\n",
    "    #All_data = np.add(All_data,img_data)\n",
    "    img_to_nii =  nibabel.Nifti1Image(img_data, img_resamp.affine, img_resamp.header)\n",
    "    nibabel.save(img_to_nii, file_dir+'/'+filename+'_resamp.nii.gz')\n"
   ]
  },
  {
   "cell_type": "code",
   "execution_count": 100,
   "id": "6a02785a",
   "metadata": {},
   "outputs": [],
   "source": [
    "#Save as new nifti\n",
    "All_to_nii = nibabel.Nifti1Image(All_data, HCP.affine, HCP.header)\n",
    "nibabel.save(All_to_nii, file_dir+'/HCP_parc_all.nii.gz')"
   ]
  },
  {
   "cell_type": "code",
   "execution_count": 101,
   "id": "9378bc52",
   "metadata": {},
   "outputs": [
    {
     "name": "stdout",
     "output_type": "stream",
     "text": [
      "0.0\n"
     ]
    }
   ],
   "source": [
    "print(np.min(img_data))"
   ]
  }
 ],
 "metadata": {
  "kernelspec": {
   "display_name": "Python 3 (ipykernel)",
   "language": "python",
   "name": "python3"
  },
  "language_info": {
   "codemirror_mode": {
    "name": "ipython",
    "version": 3
   },
   "file_extension": ".py",
   "mimetype": "text/x-python",
   "name": "python",
   "nbconvert_exporter": "python",
   "pygments_lexer": "ipython3",
   "version": "3.9.13"
  }
 },
 "nbformat": 4,
 "nbformat_minor": 5
}
