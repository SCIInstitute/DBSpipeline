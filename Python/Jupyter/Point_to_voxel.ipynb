{
 "cells": [
  {
   "cell_type": "code",
   "execution_count": 26,
   "id": "5b8db517",
   "metadata": {},
   "outputs": [],
   "source": [
    "import nibabel as nib\n",
    "import numpy as np\n",
    "import tkinter as tk\n",
    "from tkinter import filedialog\n",
    "import math"
   ]
  },
  {
   "cell_type": "code",
   "execution_count": 4,
   "id": "72e5ea14",
   "metadata": {},
   "outputs": [],
   "source": [
    "root = tk.Tk()\n",
    "root.lift()\n",
    "root.withdraw()\n",
    "image_vol = filedialog.askopenfilename(title='Image Volume')\n",
    "\n",
    "root = tk.Tk()\n",
    "root.lift()\n",
    "root.withdraw()\n",
    "points = filedialog.askopenfilename(title='Voxel Points')\n",
    "\n",
    "img = nib.load(image_vol)\n",
    "vox_points = np.loadtxt(points)"
   ]
  },
  {
   "cell_type": "code",
   "execution_count": 55,
   "id": "aa991566",
   "metadata": {},
   "outputs": [],
   "source": [
    "header_info = img.header\n",
    "aff = img.affine\n",
    "img_matrix = img.get_fdata()\n",
    "vox_step = header_info[\"pixdim\"][1:4]\n",
    "vox_map = np.zeros(img_matrix.shape)\n",
    "\n",
    "matrix_center = np.array(img_matrix.shape) / 2\n",
    "for i in range(0,len(vox_points)):\n",
    "    \n",
    "    x = np.argmin(np.abs(xrange - vox_points[i,0]))\n",
    "    y = np.argmin(np.abs(yrange - vox_points[i,1]))\n",
    "    z = np.argmin(np.abs(zrange - vox_points[i,2]))\n",
    "    \n",
    "    #x = int(matrix_center[0] - math.ceil(vox_points[i,0] / vox_step[0]))\n",
    "    #y = int(matrix_center[1] - math.ceil(vox_points[i,1] / vox_step[1]))\n",
    "    #z = int(matrix_center[2] - math.ceil(vox_points[i,2] / vox_step[2]))\n",
    "    #vox_map[x,y,z] = 1\n",
    "    \n",
    "vox_map[256,286,142] = 1\n",
    "vox_nifti = nib.Nifti1Image(vox_map, aff, header_info)\n",
    "filename = points.split('.')[0] + '.nii.gz'\n",
    "nib.save(vox_nifti,filename)"
   ]
  },
  {
   "cell_type": "code",
   "execution_count": 70,
   "id": "ce078710",
   "metadata": {},
   "outputs": [
    {
     "name": "stdout",
     "output_type": "stream",
     "text": [
      "[  7.38301086 -25.55461884  45.07440186]\n",
      "[   131.38300485    114.44538529    103.57440424 -76023.40181732]\n"
     ]
    }
   ],
   "source": [
    "print(header_info[\"srow_x\"][:3]*256 + header_info[\"srow_y\"][:3]*256 + header_info[\"srow_z\"][:3]*142 + [-124,-140,-58.5])\n",
    "\n",
    "print(np.matmul(np.array([256,256,142,1]), img.get_sform()))"
   ]
  }
 ],
 "metadata": {
  "kernelspec": {
   "display_name": "Python 3 (ipykernel)",
   "language": "python",
   "name": "python3"
  },
  "language_info": {
   "codemirror_mode": {
    "name": "ipython",
    "version": 3
   },
   "file_extension": ".py",
   "mimetype": "text/x-python",
   "name": "python",
   "nbconvert_exporter": "python",
   "pygments_lexer": "ipython3",
   "version": "3.9.13"
  }
 },
 "nbformat": 4,
 "nbformat_minor": 5
}
